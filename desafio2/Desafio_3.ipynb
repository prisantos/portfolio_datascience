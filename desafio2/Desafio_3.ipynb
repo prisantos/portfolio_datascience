{
 "cells": [
  {
   "cell_type": "markdown",
   "metadata": {
    "colab_type": "text",
    "id": "HJNe947U_nQc"
   },
   "source": [
    "# Conhecendo melhor nossa base de consumidores: qual estado possui os clientes com melhores pontuações de crédito?\n",
    "\n",
    "## Objetivo\n",
    "\n",
    "Queremos conhecer melhor nossos clientes por estado. Para isso, iniciamos uma análise na pontuação de crédito. \n",
    "Para realizar a verificação inicial, precisamos de alguns valores.\n",
    "Os valores são a média, a mediana, a moda e o desvio padrão da pontuação de crédito.\n",
    "\n",
    "## Tópicos\n",
    "\n",
    "Neste desafio você aprenderá:\n",
    "\n",
    "- Média;\n",
    "- Mediana;\n",
    "- Moda;\n",
    "- Desvio padrão.\n",
    "\n",
    "## Requisitos\n",
    "\n",
    "Você precisará de python 3.6 (ou superior).\n",
    "\n",
    "O recomendado é você utilizar um [ambiente virtual](https://pythonacademy.com.br/blog/python-e-virtualenv-como-programar-em-ambientes-virtuais). Para isto, execute os comandos como no exemplo abaixo:\n",
    "\n",
    "    pip3 install virtualenv\n",
    "    virtualenv venv -p python3\n",
    "    source venv/bin/activate \n",
    "\n",
    "Ao terminar o desafio, você pode sair do ambiente criado com o comando `deactivate`\n",
    "\n",
    "## Detalhes\n",
    "\n",
    "A resposta deve conter os valores da média, mediana, moda e desvio padrão da pontuação de crédito para cada estado do dataset.\n",
    "O arquivo para submissão deve estar em formato json, conforme o arquivo exemplo \"submission.json\".\n",
    "\n",
    "**OBSERVAÇÃO:**  É recomendado utilizar Python e pandas para esse desafio, mas também é possível utilizar outras ferramentas e linguagens de programação.\n",
    "\n",
    "Descrição dos dados:\n",
    "'id': Identificador do cliente\n",
    "'sobrenome': Sobrenome do cliente\n",
    "'pontuacao_credito': Pontuação de crédito do cliente (quanto maior, melhor o cliente geralmente)\n",
    "'estado_residencia': Estado de residência do cliente\n",
    "'genero': Gênero do cliente\n",
    "'nivel_estabilidade': Nível de estabilidade do cliente\n",
    "'saldo_conta': Saldo disponível na conta do cliente\n",
    "'numero_produtos': Número de produtos que o cliente consome\n",
    "'possui_cartao_de_credito': Possui um cartão de crédito cadastrado\n",
    "'membro_ativo': Membro acessa e consome frequentemente\n",
    "\n",
    "Obs: Os dados são fictícios, mas tentam representar a realidade de uma base de clientes de um produto SaaS. \n"
   ]
  },
  {
   "cell_type": "code",
   "execution_count": 1,
   "metadata": {
    "colab": {},
    "colab_type": "code",
    "id": "zk4Zb9bW_dbT"
   },
   "outputs": [],
   "source": [
    "import pandas as pd \n",
    "import numpy as np "
   ]
  },
  {
   "cell_type": "code",
   "execution_count": 2,
   "metadata": {
    "colab": {},
    "colab_type": "code",
    "id": "TGIonI_YAFKL"
   },
   "outputs": [],
   "source": [
    "credito = pd.read_csv('desafio1.csv')"
   ]
  },
  {
   "cell_type": "markdown",
   "metadata": {
    "colab_type": "text",
    "id": "e-iT8y4KAMNM"
   },
   "source": [
    "Autenticação com o google colab "
   ]
  },
  {
   "cell_type": "code",
   "execution_count": 3,
   "metadata": {
    "colab": {
     "base_uri": "https://localhost:8080/",
     "height": 54
    },
    "colab_type": "code",
    "executionInfo": {
     "elapsed": 947,
     "status": "ok",
     "timestamp": 1588220904546,
     "user": {
      "displayName": "PRISCILLA NASCIMENTO SANTOS",
      "photoUrl": "",
      "userId": "14582482644351198961"
     },
     "user_tz": 240
    },
    "id": "WGI8jL4bANDT",
    "outputId": "3ca0ad8f-ff12-4df4-db9b-40d196f8d56e"
   },
   "outputs": [],
   "source": [
    "#from google.colab import drive \n",
    "#drive.mount('/content/drive')"
   ]
  },
  {
   "cell_type": "code",
   "execution_count": 4,
   "metadata": {
    "colab": {},
    "colab_type": "code",
    "id": "kP7UzBOuAaej"
   },
   "outputs": [],
   "source": [
    "#credito = pd.read_csv('/content/drive/My Drive/Data Science/coestatistica-1/desafio1.csv', index_col=0, sep=\",\", encoding='ISO-8859-1')"
   ]
  },
  {
   "cell_type": "code",
   "execution_count": 5,
   "metadata": {
    "colab": {
     "base_uri": "https://localhost:8080/",
     "height": 255
    },
    "colab_type": "code",
    "executionInfo": {
     "elapsed": 903,
     "status": "ok",
     "timestamp": 1588220904548,
     "user": {
      "displayName": "PRISCILLA NASCIMENTO SANTOS",
      "photoUrl": "",
      "userId": "14582482644351198961"
     },
     "user_tz": 240
    },
    "id": "UHMO99j1A2kU",
    "outputId": "ef67d246-5ee0-4ac0-a407-415989ffae51"
   },
   "outputs": [
    {
     "data": {
      "text/html": [
       "<div>\n",
       "<style scoped>\n",
       "    .dataframe tbody tr th:only-of-type {\n",
       "        vertical-align: middle;\n",
       "    }\n",
       "\n",
       "    .dataframe tbody tr th {\n",
       "        vertical-align: top;\n",
       "    }\n",
       "\n",
       "    .dataframe thead th {\n",
       "        text-align: right;\n",
       "    }\n",
       "</style>\n",
       "<table border=\"1\" class=\"dataframe\">\n",
       "  <thead>\n",
       "    <tr style=\"text-align: right;\">\n",
       "      <th></th>\n",
       "      <th>RowNumber</th>\n",
       "      <th>id</th>\n",
       "      <th>sobrenome</th>\n",
       "      <th>pontuacao_credito</th>\n",
       "      <th>estado_residencia</th>\n",
       "      <th>genero</th>\n",
       "      <th>idade</th>\n",
       "      <th>nivel_estabilidade</th>\n",
       "      <th>saldo_conta</th>\n",
       "      <th>numero_produtos</th>\n",
       "      <th>possui_cartao_de_credito</th>\n",
       "      <th>membro_ativo</th>\n",
       "    </tr>\n",
       "  </thead>\n",
       "  <tbody>\n",
       "    <tr>\n",
       "      <th>0</th>\n",
       "      <td>1</td>\n",
       "      <td>e7f44fcbd380d4cef7e6c232cc7e37895c3fd197</td>\n",
       "      <td>6d6e0aa1b9b413e442e2fb68df14b4fc3f91de50</td>\n",
       "      <td>619</td>\n",
       "      <td>SC</td>\n",
       "      <td>F</td>\n",
       "      <td>42</td>\n",
       "      <td>2</td>\n",
       "      <td>0.00</td>\n",
       "      <td>1</td>\n",
       "      <td>1</td>\n",
       "      <td>1</td>\n",
       "    </tr>\n",
       "    <tr>\n",
       "      <th>1</th>\n",
       "      <td>2</td>\n",
       "      <td>28dcb083ad90512da16b9430085c2cddb8ca5e12</td>\n",
       "      <td>48e1ad846796fa314f1b4a6702b83343eb5482c5</td>\n",
       "      <td>608</td>\n",
       "      <td>RS</td>\n",
       "      <td>F</td>\n",
       "      <td>41</td>\n",
       "      <td>1</td>\n",
       "      <td>83807.86</td>\n",
       "      <td>1</td>\n",
       "      <td>0</td>\n",
       "      <td>1</td>\n",
       "    </tr>\n",
       "    <tr>\n",
       "      <th>2</th>\n",
       "      <td>3</td>\n",
       "      <td>774bc378f787438c9c7594e536787d07a097a54b</td>\n",
       "      <td>f2b29d5d934de615812b697132e767dea0f1e9e2</td>\n",
       "      <td>502</td>\n",
       "      <td>SC</td>\n",
       "      <td>F</td>\n",
       "      <td>42</td>\n",
       "      <td>8</td>\n",
       "      <td>159660.80</td>\n",
       "      <td>3</td>\n",
       "      <td>1</td>\n",
       "      <td>0</td>\n",
       "    </tr>\n",
       "    <tr>\n",
       "      <th>3</th>\n",
       "      <td>4</td>\n",
       "      <td>043a71326f7096de155e7f0c559dc62b5e4b7239</td>\n",
       "      <td>85d5c9da7cddd8109ad32a6c348fe2bb10bf99f2</td>\n",
       "      <td>699</td>\n",
       "      <td>SC</td>\n",
       "      <td>F</td>\n",
       "      <td>39</td>\n",
       "      <td>1</td>\n",
       "      <td>0.00</td>\n",
       "      <td>2</td>\n",
       "      <td>0</td>\n",
       "      <td>0</td>\n",
       "    </tr>\n",
       "    <tr>\n",
       "      <th>4</th>\n",
       "      <td>5</td>\n",
       "      <td>37b3bb8ca243955fb3605ec7e1c2a4607cdb3b22</td>\n",
       "      <td>ddc89c837a6933639de75f28171057060bd322df</td>\n",
       "      <td>850</td>\n",
       "      <td>RS</td>\n",
       "      <td>F</td>\n",
       "      <td>43</td>\n",
       "      <td>2</td>\n",
       "      <td>125510.82</td>\n",
       "      <td>1</td>\n",
       "      <td>1</td>\n",
       "      <td>1</td>\n",
       "    </tr>\n",
       "  </tbody>\n",
       "</table>\n",
       "</div>"
      ],
      "text/plain": [
       "   RowNumber                                        id  \\\n",
       "0          1  e7f44fcbd380d4cef7e6c232cc7e37895c3fd197   \n",
       "1          2  28dcb083ad90512da16b9430085c2cddb8ca5e12   \n",
       "2          3  774bc378f787438c9c7594e536787d07a097a54b   \n",
       "3          4  043a71326f7096de155e7f0c559dc62b5e4b7239   \n",
       "4          5  37b3bb8ca243955fb3605ec7e1c2a4607cdb3b22   \n",
       "\n",
       "                                  sobrenome  pontuacao_credito  \\\n",
       "0  6d6e0aa1b9b413e442e2fb68df14b4fc3f91de50                619   \n",
       "1  48e1ad846796fa314f1b4a6702b83343eb5482c5                608   \n",
       "2  f2b29d5d934de615812b697132e767dea0f1e9e2                502   \n",
       "3  85d5c9da7cddd8109ad32a6c348fe2bb10bf99f2                699   \n",
       "4  ddc89c837a6933639de75f28171057060bd322df                850   \n",
       "\n",
       "  estado_residencia genero  idade  nivel_estabilidade  saldo_conta  \\\n",
       "0                SC      F     42                   2         0.00   \n",
       "1                RS      F     41                   1     83807.86   \n",
       "2                SC      F     42                   8    159660.80   \n",
       "3                SC      F     39                   1         0.00   \n",
       "4                RS      F     43                   2    125510.82   \n",
       "\n",
       "   numero_produtos  possui_cartao_de_credito  membro_ativo  \n",
       "0                1                         1             1  \n",
       "1                1                         0             1  \n",
       "2                3                         1             0  \n",
       "3                2                         0             0  \n",
       "4                1                         1             1  "
      ]
     },
     "execution_count": 5,
     "metadata": {},
     "output_type": "execute_result"
    }
   ],
   "source": [
    "credito.head()"
   ]
  },
  {
   "cell_type": "markdown",
   "metadata": {
    "colab_type": "text",
    "id": "vz9GpfaiBMTq"
   },
   "source": [
    "Verificando os tipos de variáveis "
   ]
  },
  {
   "cell_type": "code",
   "execution_count": 6,
   "metadata": {
    "colab": {
     "base_uri": "https://localhost:8080/",
     "height": 221
    },
    "colab_type": "code",
    "executionInfo": {
     "elapsed": 861,
     "status": "ok",
     "timestamp": 1588220904549,
     "user": {
      "displayName": "PRISCILLA NASCIMENTO SANTOS",
      "photoUrl": "",
      "userId": "14582482644351198961"
     },
     "user_tz": 240
    },
    "id": "Er3mUkWdA9ca",
    "outputId": "48e03314-d1af-4029-aa1a-da06f1ad1095"
   },
   "outputs": [
    {
     "data": {
      "text/plain": [
       "RowNumber                     int64\n",
       "id                           object\n",
       "sobrenome                    object\n",
       "pontuacao_credito             int64\n",
       "estado_residencia            object\n",
       "genero                       object\n",
       "idade                         int64\n",
       "nivel_estabilidade            int64\n",
       "saldo_conta                 float64\n",
       "numero_produtos               int64\n",
       "possui_cartao_de_credito      int64\n",
       "membro_ativo                  int64\n",
       "dtype: object"
      ]
     },
     "execution_count": 6,
     "metadata": {},
     "output_type": "execute_result"
    }
   ],
   "source": [
    "credito. dtypes"
   ]
  },
  {
   "cell_type": "markdown",
   "metadata": {
    "colab_type": "text",
    "id": "d5bh-z7lBPfh"
   },
   "source": [
    "Verificando o tamanho do dataframe"
   ]
  },
  {
   "cell_type": "code",
   "execution_count": 7,
   "metadata": {
    "colab": {
     "base_uri": "https://localhost:8080/",
     "height": 34
    },
    "colab_type": "code",
    "executionInfo": {
     "elapsed": 819,
     "status": "ok",
     "timestamp": 1588220904549,
     "user": {
      "displayName": "PRISCILLA NASCIMENTO SANTOS",
      "photoUrl": "",
      "userId": "14582482644351198961"
     },
     "user_tz": 240
    },
    "id": "FwQAray4BFPb",
    "outputId": "db2662e8-d25a-4d15-f0d4-34911981526f"
   },
   "outputs": [
    {
     "data": {
      "text/plain": [
       "(7000, 12)"
      ]
     },
     "execution_count": 7,
     "metadata": {},
     "output_type": "execute_result"
    }
   ],
   "source": [
    "credito.shape"
   ]
  },
  {
   "cell_type": "markdown",
   "metadata": {
    "colab_type": "text",
    "id": "dtU3hiDtDwoP"
   },
   "source": [
    "Verificar dados nulos "
   ]
  },
  {
   "cell_type": "code",
   "execution_count": 8,
   "metadata": {
    "colab": {
     "base_uri": "https://localhost:8080/",
     "height": 221
    },
    "colab_type": "code",
    "executionInfo": {
     "elapsed": 1158,
     "status": "ok",
     "timestamp": 1588220904916,
     "user": {
      "displayName": "PRISCILLA NASCIMENTO SANTOS",
      "photoUrl": "",
      "userId": "14582482644351198961"
     },
     "user_tz": 240
    },
    "id": "v0bFaCZjDhXV",
    "outputId": "d8a2ea36-8ef3-416e-f30c-22916869cd1f"
   },
   "outputs": [
    {
     "data": {
      "text/plain": [
       "RowNumber                   0\n",
       "id                          0\n",
       "sobrenome                   0\n",
       "pontuacao_credito           0\n",
       "estado_residencia           0\n",
       "genero                      0\n",
       "idade                       0\n",
       "nivel_estabilidade          0\n",
       "saldo_conta                 0\n",
       "numero_produtos             0\n",
       "possui_cartao_de_credito    0\n",
       "membro_ativo                0\n",
       "dtype: int64"
      ]
     },
     "execution_count": 8,
     "metadata": {},
     "output_type": "execute_result"
    }
   ],
   "source": [
    "credito.isna().sum()"
   ]
  },
  {
   "cell_type": "code",
   "execution_count": 9,
   "metadata": {
    "colab": {
     "base_uri": "https://localhost:8080/",
     "height": 323
    },
    "colab_type": "code",
    "executionInfo": {
     "elapsed": 1133,
     "status": "ok",
     "timestamp": 1588220904917,
     "user": {
      "displayName": "PRISCILLA NASCIMENTO SANTOS",
      "photoUrl": "",
      "userId": "14582482644351198961"
     },
     "user_tz": 240
    },
    "id": "LrkJ-7d-D8dO",
    "outputId": "ea4dd63b-b8ba-4c7b-89df-01cc9bfabd29"
   },
   "outputs": [
    {
     "name": "stdout",
     "output_type": "stream",
     "text": [
      "<class 'pandas.core.frame.DataFrame'>\n",
      "RangeIndex: 7000 entries, 0 to 6999\n",
      "Data columns (total 12 columns):\n",
      " #   Column                    Non-Null Count  Dtype  \n",
      "---  ------                    --------------  -----  \n",
      " 0   RowNumber                 7000 non-null   int64  \n",
      " 1   id                        7000 non-null   object \n",
      " 2   sobrenome                 7000 non-null   object \n",
      " 3   pontuacao_credito         7000 non-null   int64  \n",
      " 4   estado_residencia         7000 non-null   object \n",
      " 5   genero                    7000 non-null   object \n",
      " 6   idade                     7000 non-null   int64  \n",
      " 7   nivel_estabilidade        7000 non-null   int64  \n",
      " 8   saldo_conta               7000 non-null   float64\n",
      " 9   numero_produtos           7000 non-null   int64  \n",
      " 10  possui_cartao_de_credito  7000 non-null   int64  \n",
      " 11  membro_ativo              7000 non-null   int64  \n",
      "dtypes: float64(1), int64(7), object(4)\n",
      "memory usage: 656.4+ KB\n"
     ]
    }
   ],
   "source": [
    "credito.info()"
   ]
  },
  {
   "cell_type": "code",
   "execution_count": 10,
   "metadata": {
    "colab": {
     "base_uri": "https://localhost:8080/",
     "height": 317
    },
    "colab_type": "code",
    "executionInfo": {
     "elapsed": 1119,
     "status": "ok",
     "timestamp": 1588220904919,
     "user": {
      "displayName": "PRISCILLA NASCIMENTO SANTOS",
      "photoUrl": "",
      "userId": "14582482644351198961"
     },
     "user_tz": 240
    },
    "id": "rKXxASiREssl",
    "outputId": "ea81d135-57ce-4efb-a243-22a25d078341"
   },
   "outputs": [
    {
     "data": {
      "text/html": [
       "<div>\n",
       "<style scoped>\n",
       "    .dataframe tbody tr th:only-of-type {\n",
       "        vertical-align: middle;\n",
       "    }\n",
       "\n",
       "    .dataframe tbody tr th {\n",
       "        vertical-align: top;\n",
       "    }\n",
       "\n",
       "    .dataframe thead th {\n",
       "        text-align: right;\n",
       "    }\n",
       "</style>\n",
       "<table border=\"1\" class=\"dataframe\">\n",
       "  <thead>\n",
       "    <tr style=\"text-align: right;\">\n",
       "      <th></th>\n",
       "      <th>RowNumber</th>\n",
       "      <th>pontuacao_credito</th>\n",
       "      <th>idade</th>\n",
       "      <th>nivel_estabilidade</th>\n",
       "      <th>saldo_conta</th>\n",
       "      <th>numero_produtos</th>\n",
       "      <th>possui_cartao_de_credito</th>\n",
       "      <th>membro_ativo</th>\n",
       "    </tr>\n",
       "  </thead>\n",
       "  <tbody>\n",
       "    <tr>\n",
       "      <th>count</th>\n",
       "      <td>7000.000000</td>\n",
       "      <td>7000.000000</td>\n",
       "      <td>7000.000000</td>\n",
       "      <td>7000.000000</td>\n",
       "      <td>7000.000000</td>\n",
       "      <td>7000.000000</td>\n",
       "      <td>7000.000000</td>\n",
       "      <td>7000.000000</td>\n",
       "    </tr>\n",
       "    <tr>\n",
       "      <th>mean</th>\n",
       "      <td>3500.500000</td>\n",
       "      <td>649.787000</td>\n",
       "      <td>38.892714</td>\n",
       "      <td>5.010286</td>\n",
       "      <td>76471.883751</td>\n",
       "      <td>1.526000</td>\n",
       "      <td>0.703286</td>\n",
       "      <td>0.512143</td>\n",
       "    </tr>\n",
       "    <tr>\n",
       "      <th>std</th>\n",
       "      <td>2020.870275</td>\n",
       "      <td>97.046279</td>\n",
       "      <td>10.465562</td>\n",
       "      <td>2.887500</td>\n",
       "      <td>62403.383911</td>\n",
       "      <td>0.583047</td>\n",
       "      <td>0.456842</td>\n",
       "      <td>0.499888</td>\n",
       "    </tr>\n",
       "    <tr>\n",
       "      <th>min</th>\n",
       "      <td>1.000000</td>\n",
       "      <td>350.000000</td>\n",
       "      <td>18.000000</td>\n",
       "      <td>0.000000</td>\n",
       "      <td>0.000000</td>\n",
       "      <td>1.000000</td>\n",
       "      <td>0.000000</td>\n",
       "      <td>0.000000</td>\n",
       "    </tr>\n",
       "    <tr>\n",
       "      <th>25%</th>\n",
       "      <td>1750.750000</td>\n",
       "      <td>582.000000</td>\n",
       "      <td>32.000000</td>\n",
       "      <td>3.000000</td>\n",
       "      <td>0.000000</td>\n",
       "      <td>1.000000</td>\n",
       "      <td>0.000000</td>\n",
       "      <td>0.000000</td>\n",
       "    </tr>\n",
       "    <tr>\n",
       "      <th>50%</th>\n",
       "      <td>3500.500000</td>\n",
       "      <td>651.000000</td>\n",
       "      <td>37.000000</td>\n",
       "      <td>5.000000</td>\n",
       "      <td>97277.130000</td>\n",
       "      <td>1.000000</td>\n",
       "      <td>1.000000</td>\n",
       "      <td>1.000000</td>\n",
       "    </tr>\n",
       "    <tr>\n",
       "      <th>75%</th>\n",
       "      <td>5250.250000</td>\n",
       "      <td>717.000000</td>\n",
       "      <td>44.000000</td>\n",
       "      <td>7.250000</td>\n",
       "      <td>127537.155000</td>\n",
       "      <td>2.000000</td>\n",
       "      <td>1.000000</td>\n",
       "      <td>1.000000</td>\n",
       "    </tr>\n",
       "    <tr>\n",
       "      <th>max</th>\n",
       "      <td>7000.000000</td>\n",
       "      <td>850.000000</td>\n",
       "      <td>92.000000</td>\n",
       "      <td>10.000000</td>\n",
       "      <td>250898.090000</td>\n",
       "      <td>4.000000</td>\n",
       "      <td>1.000000</td>\n",
       "      <td>1.000000</td>\n",
       "    </tr>\n",
       "  </tbody>\n",
       "</table>\n",
       "</div>"
      ],
      "text/plain": [
       "         RowNumber  pontuacao_credito        idade  nivel_estabilidade  \\\n",
       "count  7000.000000        7000.000000  7000.000000         7000.000000   \n",
       "mean   3500.500000         649.787000    38.892714            5.010286   \n",
       "std    2020.870275          97.046279    10.465562            2.887500   \n",
       "min       1.000000         350.000000    18.000000            0.000000   \n",
       "25%    1750.750000         582.000000    32.000000            3.000000   \n",
       "50%    3500.500000         651.000000    37.000000            5.000000   \n",
       "75%    5250.250000         717.000000    44.000000            7.250000   \n",
       "max    7000.000000         850.000000    92.000000           10.000000   \n",
       "\n",
       "         saldo_conta  numero_produtos  possui_cartao_de_credito  membro_ativo  \n",
       "count    7000.000000      7000.000000               7000.000000   7000.000000  \n",
       "mean    76471.883751         1.526000                  0.703286      0.512143  \n",
       "std     62403.383911         0.583047                  0.456842      0.499888  \n",
       "min         0.000000         1.000000                  0.000000      0.000000  \n",
       "25%         0.000000         1.000000                  0.000000      0.000000  \n",
       "50%     97277.130000         1.000000                  1.000000      1.000000  \n",
       "75%    127537.155000         2.000000                  1.000000      1.000000  \n",
       "max    250898.090000         4.000000                  1.000000      1.000000  "
      ]
     },
     "execution_count": 10,
     "metadata": {},
     "output_type": "execute_result"
    }
   ],
   "source": [
    "credito.describe()"
   ]
  },
  {
   "cell_type": "code",
   "execution_count": 11,
   "metadata": {
    "colab": {
     "base_uri": "https://localhost:8080/",
     "height": 85
    },
    "colab_type": "code",
    "executionInfo": {
     "elapsed": 1100,
     "status": "ok",
     "timestamp": 1588220904920,
     "user": {
      "displayName": "PRISCILLA NASCIMENTO SANTOS",
      "photoUrl": "",
      "userId": "14582482644351198961"
     },
     "user_tz": 240
    },
    "id": "qVSRgZihHGel",
    "outputId": "333abcf1-d79c-44d7-cd9e-4e2164c3562d"
   },
   "outputs": [
    {
     "data": {
      "text/plain": [
       "SC    3519\n",
       "RS    1750\n",
       "PR    1731\n",
       "Name: estado_residencia, dtype: int64"
      ]
     },
     "execution_count": 11,
     "metadata": {},
     "output_type": "execute_result"
    }
   ],
   "source": [
    "credito.estado_residencia.value_counts()"
   ]
  },
  {
   "cell_type": "markdown",
   "metadata": {
    "colab_type": "text",
    "id": "M0v191CpBXay"
   },
   "source": [
    " **Questão 1**"
   ]
  },
  {
   "cell_type": "code",
   "execution_count": 14,
   "metadata": {
    "colab": {},
    "colab_type": "code",
    "id": "Q7EyYTnfH0Wy"
   },
   "outputs": [],
   "source": [
    "credito_final = credito.groupby('estado_residencia')['pontuacao_credito'].agg([\n",
    "      pd.Series.mode,\n",
    "      pd.Series.median,\n",
    "      pd.Series.mean,  \n",
    "      pd.Series.std])"
   ]
  },
  {
   "cell_type": "code",
   "execution_count": 15,
   "metadata": {
    "colab": {},
    "colab_type": "code",
    "id": "dX6KxalUI7Pf"
   },
   "outputs": [],
   "source": [
    "credito_final.columns = ['moda', 'mediana', 'media','desvio_padrao']\n"
   ]
  },
  {
   "cell_type": "code",
   "execution_count": 16,
   "metadata": {
    "colab": {
     "base_uri": "https://localhost:8080/",
     "height": 173
    },
    "colab_type": "code",
    "executionInfo": {
     "elapsed": 809,
     "status": "ok",
     "timestamp": 1588221165323,
     "user": {
      "displayName": "PRISCILLA NASCIMENTO SANTOS",
      "photoUrl": "",
      "userId": "14582482644351198961"
     },
     "user_tz": 240
    },
    "id": "R4-gGu0_KYtW",
    "outputId": "c701ac72-aa60-4542-bdce-64aa48fe46b5"
   },
   "outputs": [
    {
     "data": {
      "text/html": [
       "<div>\n",
       "<style scoped>\n",
       "    .dataframe tbody tr th:only-of-type {\n",
       "        vertical-align: middle;\n",
       "    }\n",
       "\n",
       "    .dataframe tbody tr th {\n",
       "        vertical-align: top;\n",
       "    }\n",
       "\n",
       "    .dataframe thead th {\n",
       "        text-align: right;\n",
       "    }\n",
       "</style>\n",
       "<table border=\"1\" class=\"dataframe\">\n",
       "  <thead>\n",
       "    <tr style=\"text-align: right;\">\n",
       "      <th></th>\n",
       "      <th>moda</th>\n",
       "      <th>mediana</th>\n",
       "      <th>media</th>\n",
       "      <th>desvio_padrao</th>\n",
       "    </tr>\n",
       "    <tr>\n",
       "      <th>estado_residencia</th>\n",
       "      <th></th>\n",
       "      <th></th>\n",
       "      <th></th>\n",
       "      <th></th>\n",
       "    </tr>\n",
       "  </thead>\n",
       "  <tbody>\n",
       "    <tr>\n",
       "      <th>PR</th>\n",
       "      <td>850</td>\n",
       "      <td>650</td>\n",
       "      <td>648.961294</td>\n",
       "      <td>98.607186</td>\n",
       "    </tr>\n",
       "    <tr>\n",
       "      <th>RS</th>\n",
       "      <td>850</td>\n",
       "      <td>650</td>\n",
       "      <td>651.105143</td>\n",
       "      <td>95.136598</td>\n",
       "    </tr>\n",
       "    <tr>\n",
       "      <th>SC</th>\n",
       "      <td>850</td>\n",
       "      <td>653</td>\n",
       "      <td>649.537653</td>\n",
       "      <td>97.233493</td>\n",
       "    </tr>\n",
       "  </tbody>\n",
       "</table>\n",
       "</div>"
      ],
      "text/plain": [
       "                   moda  mediana       media  desvio_padrao\n",
       "estado_residencia                                          \n",
       "PR                  850      650  648.961294      98.607186\n",
       "RS                  850      650  651.105143      95.136598\n",
       "SC                  850      653  649.537653      97.233493"
      ]
     },
     "execution_count": 16,
     "metadata": {},
     "output_type": "execute_result"
    }
   ],
   "source": [
    "credito_final"
   ]
  },
  {
   "cell_type": "code",
   "execution_count": 17,
   "metadata": {
    "colab": {
     "base_uri": "https://localhost:8080/",
     "height": 173
    },
    "colab_type": "code",
    "executionInfo": {
     "elapsed": 884,
     "status": "ok",
     "timestamp": 1588221253704,
     "user": {
      "displayName": "PRISCILLA NASCIMENTO SANTOS",
      "photoUrl": "",
      "userId": "14582482644351198961"
     },
     "user_tz": 240
    },
    "id": "NAhB1eZlXPrT",
    "outputId": "506393d6-1916-497a-e669-53564796bd15"
   },
   "outputs": [
    {
     "data": {
      "text/html": [
       "<div>\n",
       "<style scoped>\n",
       "    .dataframe tbody tr th:only-of-type {\n",
       "        vertical-align: middle;\n",
       "    }\n",
       "\n",
       "    .dataframe tbody tr th {\n",
       "        vertical-align: top;\n",
       "    }\n",
       "\n",
       "    .dataframe thead th {\n",
       "        text-align: right;\n",
       "    }\n",
       "</style>\n",
       "<table border=\"1\" class=\"dataframe\">\n",
       "  <thead>\n",
       "    <tr style=\"text-align: right;\">\n",
       "      <th>estado_residencia</th>\n",
       "      <th>PR</th>\n",
       "      <th>RS</th>\n",
       "      <th>SC</th>\n",
       "    </tr>\n",
       "  </thead>\n",
       "  <tbody>\n",
       "    <tr>\n",
       "      <th>moda</th>\n",
       "      <td>850.000000</td>\n",
       "      <td>850.000000</td>\n",
       "      <td>850.000000</td>\n",
       "    </tr>\n",
       "    <tr>\n",
       "      <th>mediana</th>\n",
       "      <td>650.000000</td>\n",
       "      <td>650.000000</td>\n",
       "      <td>653.000000</td>\n",
       "    </tr>\n",
       "    <tr>\n",
       "      <th>media</th>\n",
       "      <td>648.961294</td>\n",
       "      <td>651.105143</td>\n",
       "      <td>649.537653</td>\n",
       "    </tr>\n",
       "    <tr>\n",
       "      <th>desvio_padrao</th>\n",
       "      <td>98.607186</td>\n",
       "      <td>95.136598</td>\n",
       "      <td>97.233493</td>\n",
       "    </tr>\n",
       "  </tbody>\n",
       "</table>\n",
       "</div>"
      ],
      "text/plain": [
       "estado_residencia          PR          RS          SC\n",
       "moda               850.000000  850.000000  850.000000\n",
       "mediana            650.000000  650.000000  653.000000\n",
       "media              648.961294  651.105143  649.537653\n",
       "desvio_padrao       98.607186   95.136598   97.233493"
      ]
     },
     "execution_count": 17,
     "metadata": {},
     "output_type": "execute_result"
    }
   ],
   "source": [
    "credito_final.T"
   ]
  },
  {
   "cell_type": "code",
   "execution_count": 18,
   "metadata": {
    "colab": {},
    "colab_type": "code",
    "id": "Ckssn8SmTU5R"
   },
   "outputs": [],
   "source": [
    "credito_final.T.to_json('submission.json')"
   ]
  },
  {
   "cell_type": "code",
   "execution_count": null,
   "metadata": {},
   "outputs": [],
   "source": []
  }
 ],
 "metadata": {
  "colab": {
   "collapsed_sections": [],
   "name": "Desafio_3.ipynb",
   "provenance": []
  },
  "kernelspec": {
   "display_name": "Python 3",
   "language": "python",
   "name": "python3"
  },
  "language_info": {
   "codemirror_mode": {
    "name": "ipython",
    "version": 3
   },
   "file_extension": ".py",
   "mimetype": "text/x-python",
   "name": "python",
   "nbconvert_exporter": "python",
   "pygments_lexer": "ipython3",
   "version": "3.7.6"
  }
 },
 "nbformat": 4,
 "nbformat_minor": 1
}
