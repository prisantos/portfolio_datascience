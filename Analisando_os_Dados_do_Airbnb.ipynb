{
  "nbformat": 4,
  "nbformat_minor": 0,
  "metadata": {
    "colab": {
      "name": " Analisando os Dados do Airbnb.ipynb",
      "provenance": [],
      "collapsed_sections": [],
      "include_colab_link": true
    },
    "kernelspec": {
      "name": "python3",
      "display_name": "Python 3"
    }
  },
  "cells": [
    {
      "cell_type": "markdown",
      "metadata": {
        "id": "view-in-github",
        "colab_type": "text"
      },
      "source": [
        "<a href=\"https://colab.research.google.com/github/prisantos/portfolio_datascience/blob/master/Analisando_os_Dados_do_Airbnb.ipynb\" target=\"_parent\"><img src=\"https://colab.research.google.com/assets/colab-badge.svg\" alt=\"Open In Colab\"/></a>"
      ]
    },
    {
      "cell_type": "markdown",
      "metadata": {
        "id": "kLI0gJtzDGuQ",
        "colab_type": "text"
      },
      "source": [
        "\n",
        "\n",
        "# Análise dos Dados do Airbnb - Cidade do México\n",
        "\n",
        "O [Airbnb](https://www.airbnb.com.br/) já é considerado como sendo a **maior empresa hoteleira da atualidade**.  \n",
        "\n",
        "Fato curioso que é ele **não possui nenhum hotel**!\n",
        "\n",
        "Conectando pessoas que querem viajar (e se hospedar) com anfitriões que querem alugar seus imóveis de maneira prática, o Airbnb fornece uma plataforma inovadora para tornar essa hospedagem alternativa.\n",
        "\n",
        "No final de 2018, a Startup fundada 10 anos atrás, já havia **hospedado mais de 300 milhões** de pessoas ao redor de todo o mundo, desafiando as redes hoteleiras tradicionais.\n",
        "\n",
        "Uma das iniciativas do Airbnb é disponibilizar dados do site, para algumas das principais cidades do mundo. Por meio do portal [Inside Airbnb](http://insideairbnb.com/get-the-data.html), é possível baixar uma grande quantidade de dados para desenvolver projetos e soluções de *Data Science*.\n",
        "\n",
        "<center><img alt=\"Analisando Airbnb\" width=\"50%\" src=\"https://www.area360.com.au/wp-content/uploads/2017/09/airbnb-logo.jpg\"></center>\n",
        "\n",
        "**Neste *notebook*, iremos analisar os dados referentes à cidade do México, e ver quais insights podem ser extraídos a partir de dados brutos.**\n",
        "\n",
        "A cidade do México (*Ciudad de México*) é uma capital mais populosa do México e da América do Norte  e de altitude elevada. \n",
        "\n",
        "Umas das cidades mais antigas da América do Norte, possui vários pontos turísticos e  abriga uma arquitetura impressionante.\n",
        "\n",
        "Que tal conhecer a terra de  **Frida Kahlo**?\n",
        "\n",
        "\n",
        "\n",
        "<center><img alt=\"Cidade do México\" width=\"70%\" src=\"https://www.infoescola.com/wp-content/uploads/2012/09/cidade-do-m%C3%A9xico_188040947.jpg\"></center>\n",
        "\n",
        "\n"
      ]
    },
    {
      "cell_type": "markdown",
      "metadata": {
        "id": "0zxQHhIUDF_2",
        "colab_type": "text"
      },
      "source": [
        "## Obtenção dos Dados\n",
        "\n",
        "Todos os dados usados aqui foram obtidos a partir do site [Airbnb](https://www.airbnb.com.br/).\n",
        "\n",
        "Para esta análise exploratória inicial, será utilizado apenas o seguinte arquivo:\n",
        "\n",
        "listings.csv- Summary information and metrics for listings in Cidade do México (good for visualisations)."
      ]
    },
    {
      "cell_type": "code",
      "metadata": {
        "id": "Vhp2wMPgJ6zX",
        "colab_type": "code",
        "colab": {}
      },
      "source": [
        "# importar os pacotes necessarios\n",
        "import pandas as pd\n",
        "import matplotlib.pyplot as plt\n",
        "import seaborn as sns\n",
        "\n",
        "%matplotlib inline\n"
      ],
      "execution_count": 0,
      "outputs": []
    },
    {
      "cell_type": "markdown",
      "metadata": {
        "id": "-DNoZKWZxgcj",
        "colab_type": "text"
      },
      "source": [
        "Também vamos utilizar o pacote Folium para visualização de mapa interativo dentro do nosso notebook. Para isso, é necessário a instalação e importação do pacote. "
      ]
    },
    {
      "cell_type": "code",
      "metadata": {
        "id": "pkm8rowsINSj",
        "colab_type": "code",
        "outputId": "1f2043da-cc11-457d-c397-47a3fafcbc85",
        "colab": {
          "base_uri": "https://localhost:8080/",
          "height": 204
        }
      },
      "source": [
        "pip install folium"
      ],
      "execution_count": 0,
      "outputs": [
        {
          "output_type": "stream",
          "text": [
            "Requirement already satisfied: folium in /usr/local/lib/python3.6/dist-packages (0.8.3)\n",
            "Requirement already satisfied: numpy in /usr/local/lib/python3.6/dist-packages (from folium) (1.17.5)\n",
            "Requirement already satisfied: six in /usr/local/lib/python3.6/dist-packages (from folium) (1.12.0)\n",
            "Requirement already satisfied: jinja2 in /usr/local/lib/python3.6/dist-packages (from folium) (2.10.3)\n",
            "Requirement already satisfied: requests in /usr/local/lib/python3.6/dist-packages (from folium) (2.21.0)\n",
            "Requirement already satisfied: branca>=0.3.0 in /usr/local/lib/python3.6/dist-packages (from folium) (0.3.1)\n",
            "Requirement already satisfied: MarkupSafe>=0.23 in /usr/local/lib/python3.6/dist-packages (from jinja2->folium) (1.1.1)\n",
            "Requirement already satisfied: idna<2.9,>=2.5 in /usr/local/lib/python3.6/dist-packages (from requests->folium) (2.8)\n",
            "Requirement already satisfied: urllib3<1.25,>=1.21.1 in /usr/local/lib/python3.6/dist-packages (from requests->folium) (1.24.3)\n",
            "Requirement already satisfied: chardet<3.1.0,>=3.0.2 in /usr/local/lib/python3.6/dist-packages (from requests->folium) (3.0.4)\n",
            "Requirement already satisfied: certifi>=2017.4.17 in /usr/local/lib/python3.6/dist-packages (from requests->folium) (2019.11.28)\n"
          ],
          "name": "stdout"
        }
      ]
    },
    {
      "cell_type": "code",
      "metadata": {
        "id": "lYgXbZ2MINJh",
        "colab_type": "code",
        "colab": {}
      },
      "source": [
        "import folium\n"
      ],
      "execution_count": 0,
      "outputs": []
    },
    {
      "cell_type": "code",
      "metadata": {
        "colab_type": "code",
        "id": "1zL5ENc6Rref",
        "colab": {}
      },
      "source": [
        "# importar o arquivo listings.csv para um DataFrame\n",
        "df = pd.read_csv(\"http://data.insideairbnb.com/mexico/df/mexico-city/2019-11-25/visualisations/listings.csv\")"
      ],
      "execution_count": 0,
      "outputs": []
    },
    {
      "cell_type": "markdown",
      "metadata": {
        "id": "qb5By2nIMS6m",
        "colab_type": "text"
      },
      "source": [
        "## Análise dos Dados\n"
      ]
    },
    {
      "cell_type": "markdown",
      "metadata": {
        "id": "RYgvuebKNg8-",
        "colab_type": "text"
      },
      "source": [
        "**Dicionário das variáveis**\n",
        "\n",
        "* id - número de id gerado para identificar o imóvel\n",
        "*name - nome da propriedade anunciada\n",
        "*host_id - número de id do proprietário (anfitrião) da propriedade\n",
        "*host_name - Nome do anfitrião\n",
        "*neighbourhood_group - esta coluna não contém nenhum valor válido\n",
        "*neighbourhood - nome do bairro\n",
        "*latitude - coordenada da latitude da propriedade\n",
        "*longitude - coordenada da longitude da propriedade\n",
        "*room_type - informa o tipo de quarto que é oferecido\n",
        "*price - preço para alugar o imóvel\n",
        "*minimum_nights - quantidade mínima de noites para reservar\n",
        "*number_of_reviews - número de reviews que a propriedade possui\n",
        "*last_review - data do último review\n",
        "*reviews_per_month - quantidade de reviews por mês\n",
        "*calculated_host_listings_count - quantidade de imóveis do mesmo anfitrião\n",
        "*availability_365 - número de dias de disponibilidade dentro de 365 dias\n",
        "\n",
        "\n",
        "Antes de iniciar qualquer analise, vamos verificar a cara do nosso *dataset*, analisando as 5 primeiras entradas."
      ]
    },
    {
      "cell_type": "code",
      "metadata": {
        "id": "2iS_dae7YQtO",
        "colab_type": "code",
        "outputId": "33c71066-d5d2-4eff-fb32-bf15782ffc10",
        "colab": {
          "base_uri": "https://localhost:8080/",
          "height": 513
        }
      },
      "source": [
        "# mostrar as 5 primeiras entradas\n",
        "df.head()"
      ],
      "execution_count": 0,
      "outputs": [
        {
          "output_type": "execute_result",
          "data": {
            "text/html": [
              "<div>\n",
              "<style scoped>\n",
              "    .dataframe tbody tr th:only-of-type {\n",
              "        vertical-align: middle;\n",
              "    }\n",
              "\n",
              "    .dataframe tbody tr th {\n",
              "        vertical-align: top;\n",
              "    }\n",
              "\n",
              "    .dataframe thead th {\n",
              "        text-align: right;\n",
              "    }\n",
              "</style>\n",
              "<table border=\"1\" class=\"dataframe\">\n",
              "  <thead>\n",
              "    <tr style=\"text-align: right;\">\n",
              "      <th></th>\n",
              "      <th>id</th>\n",
              "      <th>name</th>\n",
              "      <th>host_id</th>\n",
              "      <th>host_name</th>\n",
              "      <th>neighbourhood_group</th>\n",
              "      <th>neighbourhood</th>\n",
              "      <th>latitude</th>\n",
              "      <th>longitude</th>\n",
              "      <th>room_type</th>\n",
              "      <th>price</th>\n",
              "      <th>minimum_nights</th>\n",
              "      <th>number_of_reviews</th>\n",
              "      <th>last_review</th>\n",
              "      <th>reviews_per_month</th>\n",
              "      <th>calculated_host_listings_count</th>\n",
              "      <th>availability_365</th>\n",
              "    </tr>\n",
              "  </thead>\n",
              "  <tbody>\n",
              "    <tr>\n",
              "      <th>0</th>\n",
              "      <td>22787</td>\n",
              "      <td>Sunny suite w/ queen size bed, inside boutique...</td>\n",
              "      <td>87973</td>\n",
              "      <td>Diego</td>\n",
              "      <td>NaN</td>\n",
              "      <td>Cuauhtémoc</td>\n",
              "      <td>19.44076</td>\n",
              "      <td>-99.16324</td>\n",
              "      <td>Private room</td>\n",
              "      <td>1995</td>\n",
              "      <td>1</td>\n",
              "      <td>57</td>\n",
              "      <td>2019-05-27</td>\n",
              "      <td>0.50</td>\n",
              "      <td>8</td>\n",
              "      <td>332</td>\n",
              "    </tr>\n",
              "    <tr>\n",
              "      <th>1</th>\n",
              "      <td>35797</td>\n",
              "      <td>Villa Dante</td>\n",
              "      <td>153786</td>\n",
              "      <td>Dici</td>\n",
              "      <td>NaN</td>\n",
              "      <td>Cuajimalpa de Morelos</td>\n",
              "      <td>19.38399</td>\n",
              "      <td>-99.27335</td>\n",
              "      <td>Entire home/apt</td>\n",
              "      <td>3874</td>\n",
              "      <td>1</td>\n",
              "      <td>0</td>\n",
              "      <td>NaN</td>\n",
              "      <td>NaN</td>\n",
              "      <td>2</td>\n",
              "      <td>363</td>\n",
              "    </tr>\n",
              "    <tr>\n",
              "      <th>2</th>\n",
              "      <td>44616</td>\n",
              "      <td>CONDESA HAUS  B&amp;B</td>\n",
              "      <td>196253</td>\n",
              "      <td>Condesa Haus Bed &amp; Breakfast  CDMX</td>\n",
              "      <td>NaN</td>\n",
              "      <td>Cuauhtémoc</td>\n",
              "      <td>19.41006</td>\n",
              "      <td>-99.17645</td>\n",
              "      <td>Private room</td>\n",
              "      <td>1898</td>\n",
              "      <td>1</td>\n",
              "      <td>42</td>\n",
              "      <td>2019-11-04</td>\n",
              "      <td>0.43</td>\n",
              "      <td>10</td>\n",
              "      <td>353</td>\n",
              "    </tr>\n",
              "    <tr>\n",
              "      <th>3</th>\n",
              "      <td>58955</td>\n",
              "      <td>Entire beautiful duplex in la Roma</td>\n",
              "      <td>282620</td>\n",
              "      <td>Nat</td>\n",
              "      <td>NaN</td>\n",
              "      <td>Cuauhtémoc</td>\n",
              "      <td>19.42292</td>\n",
              "      <td>-99.15775</td>\n",
              "      <td>Entire home/apt</td>\n",
              "      <td>1646</td>\n",
              "      <td>3</td>\n",
              "      <td>40</td>\n",
              "      <td>2019-11-07</td>\n",
              "      <td>0.41</td>\n",
              "      <td>1</td>\n",
              "      <td>132</td>\n",
              "    </tr>\n",
              "    <tr>\n",
              "      <th>4</th>\n",
              "      <td>70644</td>\n",
              "      <td>Beautiful light Studio Coyoacan- full equipped !</td>\n",
              "      <td>212109</td>\n",
              "      <td>Trisha</td>\n",
              "      <td>NaN</td>\n",
              "      <td>Coyoacán</td>\n",
              "      <td>19.35601</td>\n",
              "      <td>-99.16167</td>\n",
              "      <td>Entire home/apt</td>\n",
              "      <td>1065</td>\n",
              "      <td>3</td>\n",
              "      <td>96</td>\n",
              "      <td>2019-11-06</td>\n",
              "      <td>1.01</td>\n",
              "      <td>3</td>\n",
              "      <td>322</td>\n",
              "    </tr>\n",
              "  </tbody>\n",
              "</table>\n",
              "</div>"
            ],
            "text/plain": [
              "      id  ... availability_365\n",
              "0  22787  ...              332\n",
              "1  35797  ...              363\n",
              "2  44616  ...              353\n",
              "3  58955  ...              132\n",
              "4  70644  ...              322\n",
              "\n",
              "[5 rows x 16 columns]"
            ]
          },
          "metadata": {
            "tags": []
          },
          "execution_count": 65
        }
      ]
    },
    {
      "cell_type": "markdown",
      "metadata": {
        "id": "lNU_A2M3ny6q",
        "colab_type": "text"
      },
      "source": [
        "Analisando os cinco primeiros registros, percebemos que a coluna `neighbourhood_group` não possui nenhum valor. \n",
        "O acrônimo de NaN que significa \"*Not a Number*\" e indica um valor numérico indefinido ou irrepresentável."
      ]
    },
    {
      "cell_type": "markdown",
      "metadata": {
        "id": "6-B_qtEaYEd-",
        "colab_type": "text"
      },
      "source": [
        "### **Q1. Quantos atributos (variáveis) e quantas entradas o nosso conjunto de dados possui? Quais os tipos das variáveis?**"
      ]
    },
    {
      "cell_type": "markdown",
      "metadata": {
        "id": "dYGBuDoJPOS1",
        "colab_type": "text"
      },
      "source": [
        "Vamos identificar a quantidade de variáveis e quantas entradas o dataset possui. Também vamos verificar quais são os tipos de variáveis  \n"
      ]
    },
    {
      "cell_type": "code",
      "metadata": {
        "id": "TFRK0tniLV-G",
        "colab_type": "code",
        "outputId": "0aa426a7-84d2-4428-9885-91c1765b9c1b",
        "colab": {
          "base_uri": "https://localhost:8080/",
          "height": 357
        }
      },
      "source": [
        "# identificar o volume de dados do DataFrame\n",
        "print(\"Quantidade de Entradas:\\t {}\".format(df.shape[0]))\n",
        "print(\"Quantidade de Variáveis:\\t {}\\n\".format(df.shape[1]))\n",
        "\n",
        "# verificar as 5 primeiras entradas do dataset\n",
        "display(df.dtypes)"
      ],
      "execution_count": 0,
      "outputs": [
        {
          "output_type": "stream",
          "text": [
            "Quantidade de Entradas:\t 20571\n",
            "Quantidade de Variáveis:\t 16\n",
            "\n"
          ],
          "name": "stdout"
        },
        {
          "output_type": "display_data",
          "data": {
            "text/plain": [
              "id                                  int64\n",
              "name                               object\n",
              "host_id                             int64\n",
              "host_name                          object\n",
              "neighbourhood_group               float64\n",
              "neighbourhood                      object\n",
              "latitude                          float64\n",
              "longitude                         float64\n",
              "room_type                          object\n",
              "price                               int64\n",
              "minimum_nights                      int64\n",
              "number_of_reviews                   int64\n",
              "last_review                        object\n",
              "reviews_per_month                 float64\n",
              "calculated_host_listings_count      int64\n",
              "availability_365                    int64\n",
              "dtype: object"
            ]
          },
          "metadata": {
            "tags": []
          }
        }
      ]
    },
    {
      "cell_type": "markdown",
      "metadata": {
        "id": "FCICA49qYnY9",
        "colab_type": "text"
      },
      "source": [
        "###**Conclusões**: \n",
        "\n",
        "\n",
        "O Dataset possui 16 variáveis e  20571 entradas.\n",
        "\n",
        "Este dataset que baixamos é a versão \"resumida\" do Airbnb. Na mesma página que baixamos o arquivo *listings.csv*. Há uma versão mais completa com 20571 entradas e 106 variáveis (listings.csv.gz)."
      ]
    },
    {
      "cell_type": "markdown",
      "metadata": {
        "id": "yz1urSUGW9iE",
        "colab_type": "text"
      },
      "source": [
        "### **Q2. Qual a porcentagem de valores ausentes no *dataset*?**"
      ]
    },
    {
      "cell_type": "markdown",
      "metadata": {
        "id": "yjRYArs5PuCE",
        "colab_type": "text"
      },
      "source": [
        "A qualidade de um dataset está diretamente relacionada à quantidade de valores ausentes. É necessário verificar logo no início se esses valores nulos são significativos comparados ao total de entradas.\n",
        "\n"
      ]
    },
    {
      "cell_type": "code",
      "metadata": {
        "id": "plk2FjbCXOqP",
        "colab_type": "code",
        "outputId": "a2894c3a-077e-49dd-d884-a103050e0a54",
        "colab": {
          "base_uri": "https://localhost:8080/",
          "height": 306
        }
      },
      "source": [
        "# ordenar em ordem decrescente as variáveis por seus valores ausentes\n",
        "(df.isnull().sum() / df.shape[0]).sort_values(ascending=False)"
      ],
      "execution_count": 0,
      "outputs": [
        {
          "output_type": "execute_result",
          "data": {
            "text/plain": [
              "neighbourhood_group               1.000000\n",
              "reviews_per_month                 0.213942\n",
              "last_review                       0.213942\n",
              "host_name                         0.001507\n",
              "name                              0.000438\n",
              "availability_365                  0.000000\n",
              "calculated_host_listings_count    0.000000\n",
              "number_of_reviews                 0.000000\n",
              "minimum_nights                    0.000000\n",
              "price                             0.000000\n",
              "room_type                         0.000000\n",
              "longitude                         0.000000\n",
              "latitude                          0.000000\n",
              "neighbourhood                     0.000000\n",
              "host_id                           0.000000\n",
              "id                                0.000000\n",
              "dtype: float64"
            ]
          },
          "metadata": {
            "tags": []
          },
          "execution_count": 67
        }
      ]
    },
    {
      "cell_type": "code",
      "metadata": {
        "colab_type": "code",
        "outputId": "0f184dff-4320-4dad-e429-0f14de65b1eb",
        "id": "82PKy9e3FiDz",
        "colab": {
          "base_uri": "https://localhost:8080/",
          "height": 419
        }
      },
      "source": [
        "df[['price', 'availability_365', 'number_of_reviews', 'reviews_per_month','minimum_nights','availability_365']]"
      ],
      "execution_count": 0,
      "outputs": [
        {
          "output_type": "execute_result",
          "data": {
            "text/html": [
              "<div>\n",
              "<style scoped>\n",
              "    .dataframe tbody tr th:only-of-type {\n",
              "        vertical-align: middle;\n",
              "    }\n",
              "\n",
              "    .dataframe tbody tr th {\n",
              "        vertical-align: top;\n",
              "    }\n",
              "\n",
              "    .dataframe thead th {\n",
              "        text-align: right;\n",
              "    }\n",
              "</style>\n",
              "<table border=\"1\" class=\"dataframe\">\n",
              "  <thead>\n",
              "    <tr style=\"text-align: right;\">\n",
              "      <th></th>\n",
              "      <th>price</th>\n",
              "      <th>availability_365</th>\n",
              "      <th>number_of_reviews</th>\n",
              "      <th>reviews_per_month</th>\n",
              "      <th>minimum_nights</th>\n",
              "      <th>availability_365</th>\n",
              "    </tr>\n",
              "  </thead>\n",
              "  <tbody>\n",
              "    <tr>\n",
              "      <th>0</th>\n",
              "      <td>1995</td>\n",
              "      <td>332</td>\n",
              "      <td>57</td>\n",
              "      <td>0.50</td>\n",
              "      <td>1</td>\n",
              "      <td>332</td>\n",
              "    </tr>\n",
              "    <tr>\n",
              "      <th>1</th>\n",
              "      <td>3874</td>\n",
              "      <td>363</td>\n",
              "      <td>0</td>\n",
              "      <td>NaN</td>\n",
              "      <td>1</td>\n",
              "      <td>363</td>\n",
              "    </tr>\n",
              "    <tr>\n",
              "      <th>2</th>\n",
              "      <td>1898</td>\n",
              "      <td>353</td>\n",
              "      <td>42</td>\n",
              "      <td>0.43</td>\n",
              "      <td>1</td>\n",
              "      <td>353</td>\n",
              "    </tr>\n",
              "    <tr>\n",
              "      <th>3</th>\n",
              "      <td>1646</td>\n",
              "      <td>132</td>\n",
              "      <td>40</td>\n",
              "      <td>0.41</td>\n",
              "      <td>3</td>\n",
              "      <td>132</td>\n",
              "    </tr>\n",
              "    <tr>\n",
              "      <th>4</th>\n",
              "      <td>1065</td>\n",
              "      <td>322</td>\n",
              "      <td>96</td>\n",
              "      <td>1.01</td>\n",
              "      <td>3</td>\n",
              "      <td>322</td>\n",
              "    </tr>\n",
              "    <tr>\n",
              "      <th>...</th>\n",
              "      <td>...</td>\n",
              "      <td>...</td>\n",
              "      <td>...</td>\n",
              "      <td>...</td>\n",
              "      <td>...</td>\n",
              "      <td>...</td>\n",
              "    </tr>\n",
              "    <tr>\n",
              "      <th>20566</th>\n",
              "      <td>504</td>\n",
              "      <td>84</td>\n",
              "      <td>0</td>\n",
              "      <td>NaN</td>\n",
              "      <td>3</td>\n",
              "      <td>84</td>\n",
              "    </tr>\n",
              "    <tr>\n",
              "      <th>20567</th>\n",
              "      <td>291</td>\n",
              "      <td>348</td>\n",
              "      <td>0</td>\n",
              "      <td>NaN</td>\n",
              "      <td>1</td>\n",
              "      <td>348</td>\n",
              "    </tr>\n",
              "    <tr>\n",
              "      <th>20568</th>\n",
              "      <td>504</td>\n",
              "      <td>169</td>\n",
              "      <td>0</td>\n",
              "      <td>NaN</td>\n",
              "      <td>1</td>\n",
              "      <td>169</td>\n",
              "    </tr>\n",
              "    <tr>\n",
              "      <th>20569</th>\n",
              "      <td>1801</td>\n",
              "      <td>29</td>\n",
              "      <td>0</td>\n",
              "      <td>NaN</td>\n",
              "      <td>2</td>\n",
              "      <td>29</td>\n",
              "    </tr>\n",
              "    <tr>\n",
              "      <th>20570</th>\n",
              "      <td>368</td>\n",
              "      <td>365</td>\n",
              "      <td>0</td>\n",
              "      <td>NaN</td>\n",
              "      <td>1</td>\n",
              "      <td>365</td>\n",
              "    </tr>\n",
              "  </tbody>\n",
              "</table>\n",
              "<p>20571 rows × 6 columns</p>\n",
              "</div>"
            ],
            "text/plain": [
              "       price  availability_365  ...  minimum_nights  availability_365\n",
              "0       1995               332  ...               1               332\n",
              "1       3874               363  ...               1               363\n",
              "2       1898               353  ...               1               353\n",
              "3       1646               132  ...               3               132\n",
              "4       1065               322  ...               3               322\n",
              "...      ...               ...  ...             ...               ...\n",
              "20566    504                84  ...               3                84\n",
              "20567    291               348  ...               1               348\n",
              "20568    504               169  ...               1               169\n",
              "20569   1801                29  ...               2                29\n",
              "20570    368               365  ...               1               365\n",
              "\n",
              "[20571 rows x 6 columns]"
            ]
          },
          "metadata": {
            "tags": []
          },
          "execution_count": 68
        }
      ]
    },
    {
      "cell_type": "markdown",
      "metadata": {
        "id": "JNO8VgNFP857",
        "colab_type": "text"
      },
      "source": [
        "### **Conclusões:** \n",
        "* É possível ver que as colunas `neighbourhood_group`  possui 100% dos seus valores faltantes. \n",
        "* As variáveis `reviews_per_month` e `last_review` possuem 21,3 % dos valores nulos.\n",
        "* A variável `host_name ` tem 0,15%  dos valores nulos. \n",
        "* A variável `name ` tem aproximadamente 0,04%  dos valores nulos. \n"
      ]
    },
    {
      "cell_type": "markdown",
      "metadata": {
        "id": "yfamqhfg3soK",
        "colab_type": "text"
      },
      "source": [
        "Podemos verificar que temos alguns valores ausentes na coluna `reviews_per_month`. Essa coluna refere-se aos comentários feito por mês, o que podemos levantar algumas hipóteses: \n",
        "\n",
        "1) que algumas acomodações alugadas não receberam avaliações ou \n",
        "\n",
        "2) que são acomodações novas que ainda não foram alugados"
      ]
    },
    {
      "cell_type": "markdown",
      "metadata": {
        "id": "ZXrzAJezy73J",
        "colab_type": "text"
      },
      "source": [
        "Na variável `host_name` e `name` a quantidade de dados nulos não possui tanta representatividade no nosso dataset. Então vamos eliminar esses valores."
      ]
    },
    {
      "cell_type": "code",
      "metadata": {
        "id": "jvtXMGhu1dt7",
        "colab_type": "code",
        "outputId": "6bcf8e85-f1ea-4e7f-ff52-d6ded9006b96",
        "colab": {
          "base_uri": "https://localhost:8080/",
          "height": 51
        }
      },
      "source": [
        "# eliminar todas as entradas onde existam valores ausentes em `host_name`\n",
        "df_row_dropna = df.dropna(subset=['host_name'], axis=0)\n",
        "\n",
        "# eliminar todas as entradas onde existam valores ausentes em `name`\n",
        "df_row_dropna = df.dropna(subset=['name'], axis=0)\n",
        "\n",
        "# comparar o antes e o depois de `host_name`\n",
        "print(\"Antes:\\t{}\".format(df.shape))\n",
        "print(\"Depois:\\t{}\".format(df_row_dropna.shape))"
      ],
      "execution_count": 0,
      "outputs": [
        {
          "output_type": "stream",
          "text": [
            "Antes:\t(20571, 16)\n",
            "Depois:\t(20562, 16)\n"
          ],
          "name": "stdout"
        }
      ]
    },
    {
      "cell_type": "markdown",
      "metadata": {
        "id": "iHXvvHIxaoNc",
        "colab_type": "text"
      },
      "source": [
        "### **Q3. Qual o tipo de distribuição das variáveis?** "
      ]
    },
    {
      "cell_type": "markdown",
      "metadata": {
        "id": "7TzZRnryZwxE",
        "colab_type": "text"
      },
      "source": [
        "Para analise sobre a distribuição dos dados, iremos plotar os histogramas. Foram plotados histogramas para cada uma das variáveis numéricas do *dataset*.\n",
        "\n",
        "Vamos verificar a quantidade de valores nulos "
      ]
    },
    {
      "cell_type": "code",
      "metadata": {
        "id": "0jF8Kp0aAQ7Z",
        "colab_type": "code",
        "outputId": "16bb0c5f-8dd2-4483-bdfc-da57b19b2fd7",
        "colab": {
          "base_uri": "https://localhost:8080/",
          "height": 306
        }
      },
      "source": [
        "df.isnull().sum()"
      ],
      "execution_count": 0,
      "outputs": [
        {
          "output_type": "execute_result",
          "data": {
            "text/plain": [
              "id                                    0\n",
              "name                                  9\n",
              "host_id                               0\n",
              "host_name                            31\n",
              "neighbourhood_group               20571\n",
              "neighbourhood                         0\n",
              "latitude                              0\n",
              "longitude                             0\n",
              "room_type                             0\n",
              "price                                 0\n",
              "minimum_nights                        0\n",
              "number_of_reviews                     0\n",
              "last_review                        4401\n",
              "reviews_per_month                  4401\n",
              "calculated_host_listings_count        0\n",
              "availability_365                      0\n",
              "dtype: int64"
            ]
          },
          "metadata": {
            "tags": []
          },
          "execution_count": 70
        }
      ]
    },
    {
      "cell_type": "markdown",
      "metadata": {
        "id": "nWDgjKwglaIi",
        "colab_type": "text"
      },
      "source": [
        "Podemos verificar que as variáveis ´last_review´ e ´reviews_per_month´ possui a mesma quantidade de valores ausentes. \n",
        "Não podemos eliminar esses valores ausentes, pois pode interferir na nossa análise. Uma hipótese para essa quantidade é que \n",
        "podem ser acomodações novas ou acomodações que não receberam avaliações."
      ]
    },
    {
      "cell_type": "markdown",
      "metadata": {
        "id": "6OOyXtWPmQGh",
        "colab_type": "text"
      },
      "source": [
        "### **Q4. Há outliers presentes?**\n",
        "Através da distribuição do histograma é possível verificar a presença de outliers. Eles são dados que são drasticamente diferente dos demais, um ponto fora da curva. Que quando não tratados pode inteferir nos resultados obtidos da análise.\n",
        "\n",
        "Podemos verificar das entradas das variáveis `price`, `minimum_nights` e `calculated_host_listings_count` não seguem uma distribuição. \n",
        "\n",
        "Para confirmar a presença dos outliers vamos utilizar as seguintes etapas:\n",
        "\n",
        "a) Resumo estatístico por meio do método `describe()`\n"
      ]
    },
    {
      "cell_type": "code",
      "metadata": {
        "id": "IlCwuItbpvGJ",
        "colab_type": "code",
        "outputId": "b9e5f7fb-cc23-4f9e-9244-e0da3e8fcc73",
        "colab": {
          "base_uri": "https://localhost:8080/",
          "height": 297
        }
      },
      "source": [
        "#resumo estatístico das variaveis numericas \n",
        "df[['calculated_host_listings_count', 'minimum_nights', 'price', 'reviews_per_month', 'number_of_reviews', 'availability_365' ]].describe()"
      ],
      "execution_count": 0,
      "outputs": [
        {
          "output_type": "execute_result",
          "data": {
            "text/html": [
              "<div>\n",
              "<style scoped>\n",
              "    .dataframe tbody tr th:only-of-type {\n",
              "        vertical-align: middle;\n",
              "    }\n",
              "\n",
              "    .dataframe tbody tr th {\n",
              "        vertical-align: top;\n",
              "    }\n",
              "\n",
              "    .dataframe thead th {\n",
              "        text-align: right;\n",
              "    }\n",
              "</style>\n",
              "<table border=\"1\" class=\"dataframe\">\n",
              "  <thead>\n",
              "    <tr style=\"text-align: right;\">\n",
              "      <th></th>\n",
              "      <th>calculated_host_listings_count</th>\n",
              "      <th>minimum_nights</th>\n",
              "      <th>price</th>\n",
              "      <th>reviews_per_month</th>\n",
              "      <th>number_of_reviews</th>\n",
              "      <th>availability_365</th>\n",
              "    </tr>\n",
              "  </thead>\n",
              "  <tbody>\n",
              "    <tr>\n",
              "      <th>count</th>\n",
              "      <td>20571.000000</td>\n",
              "      <td>20571.000000</td>\n",
              "      <td>20571.000000</td>\n",
              "      <td>16170.000000</td>\n",
              "      <td>20571.000000</td>\n",
              "      <td>20571.000000</td>\n",
              "    </tr>\n",
              "    <tr>\n",
              "      <th>mean</th>\n",
              "      <td>4.714744</td>\n",
              "      <td>3.760196</td>\n",
              "      <td>1150.935054</td>\n",
              "      <td>1.825876</td>\n",
              "      <td>23.028827</td>\n",
              "      <td>210.830490</td>\n",
              "    </tr>\n",
              "    <tr>\n",
              "      <th>std</th>\n",
              "      <td>8.391954</td>\n",
              "      <td>22.178327</td>\n",
              "      <td>3601.870920</td>\n",
              "      <td>1.858464</td>\n",
              "      <td>39.639857</td>\n",
              "      <td>135.301748</td>\n",
              "    </tr>\n",
              "    <tr>\n",
              "      <th>min</th>\n",
              "      <td>1.000000</td>\n",
              "      <td>1.000000</td>\n",
              "      <td>0.000000</td>\n",
              "      <td>0.010000</td>\n",
              "      <td>0.000000</td>\n",
              "      <td>0.000000</td>\n",
              "    </tr>\n",
              "    <tr>\n",
              "      <th>25%</th>\n",
              "      <td>1.000000</td>\n",
              "      <td>1.000000</td>\n",
              "      <td>407.000000</td>\n",
              "      <td>0.450000</td>\n",
              "      <td>1.000000</td>\n",
              "      <td>85.000000</td>\n",
              "    </tr>\n",
              "    <tr>\n",
              "      <th>50%</th>\n",
              "      <td>2.000000</td>\n",
              "      <td>2.000000</td>\n",
              "      <td>697.000000</td>\n",
              "      <td>1.190000</td>\n",
              "      <td>7.000000</td>\n",
              "      <td>207.000000</td>\n",
              "    </tr>\n",
              "    <tr>\n",
              "      <th>75%</th>\n",
              "      <td>4.000000</td>\n",
              "      <td>2.000000</td>\n",
              "      <td>1259.000000</td>\n",
              "      <td>2.630000</td>\n",
              "      <td>27.000000</td>\n",
              "      <td>350.000000</td>\n",
              "    </tr>\n",
              "    <tr>\n",
              "      <th>max</th>\n",
              "      <td>58.000000</td>\n",
              "      <td>1122.000000</td>\n",
              "      <td>349994.000000</td>\n",
              "      <td>17.320000</td>\n",
              "      <td>523.000000</td>\n",
              "      <td>365.000000</td>\n",
              "    </tr>\n",
              "  </tbody>\n",
              "</table>\n",
              "</div>"
            ],
            "text/plain": [
              "       calculated_host_listings_count  ...  availability_365\n",
              "count                    20571.000000  ...      20571.000000\n",
              "mean                         4.714744  ...        210.830490\n",
              "std                          8.391954  ...        135.301748\n",
              "min                          1.000000  ...          0.000000\n",
              "25%                          1.000000  ...         85.000000\n",
              "50%                          2.000000  ...        207.000000\n",
              "75%                          4.000000  ...        350.000000\n",
              "max                         58.000000  ...        365.000000\n",
              "\n",
              "[8 rows x 6 columns]"
            ]
          },
          "metadata": {
            "tags": []
          },
          "execution_count": 71
        }
      ]
    },
    {
      "cell_type": "code",
      "metadata": {
        "id": "q2wWSfeRbmBo",
        "colab_type": "code",
        "outputId": "61c068c6-06ea-48ec-94a2-7002ebc23afe",
        "colab": {
          "base_uri": "https://localhost:8080/",
          "height": 607
        }
      },
      "source": [
        "# plotar o histograma das variáveis numéricas\n",
        "df.hist(bins=15, figsize=(15,10), color = \"#CD853F\");"
      ],
      "execution_count": 0,
      "outputs": [
        {
          "output_type": "display_data",
          "data": {
            "image/png": "[encoded data removed]",
            "text/plain": [
              "<Figure size 1080x720 with 12 Axes>"
            ]
          },
          "metadata": {
            "tags": []
          }
        }
      ]
    },
    {
      "cell_type": "markdown",
      "metadata": {
        "id": "HyUzXerr5BlW",
        "colab_type": "text"
      },
      "source": [
        "### **Conclusões:**\n",
        "\n",
        "\n",
        "a) A coluna `availability_365` descreve a quantidade de acomodações disponíveis no ano. Observou que diversas acomodações não estão disponíveis ao longo do ano e que não estão disponíveis em nenhum dia do ano.\n",
        "\n",
        "b)  Outra coluna `host_id` que representa a identificação do anfitrião, percebemos que existe uma grande quantidade de ids maiores que possivelmente deve represetar a ordem crescente dos cadastros. Podemos chegar na hipótese de um crescimento da plataforma pela quantidade de cadastros. \n",
        "\n",
        "c) Na `latitude` e `altitude` percebemos que uma concentração nos pontos centrais. Seriam áreas urbanas? Próximo a área central?\n",
        "\n",
        "d) Podemos verificar que em algumas coluna existe a presença de outliers como na coluna `preço` não condizem com a realidade. Para 34.000 em uma diária é bem fora do comum. É necessário realizar a remoção desses outliers. \n",
        "\n",
        "e) A coluna `neighbourhood_group` não contém nenhum dado. Iremos utilizar a latitude e altitude para agrupar os grupos de bairros em uma mapa interativo utilizando o pacote  *Folium*\n"
      ]
    },
    {
      "cell_type": "markdown",
      "metadata": {
        "id": "rs0FVZ7RmHML",
        "colab_type": "text"
      },
      "source": [
        "### **Boxplot para Mínimo de Noites**"
      ]
    },
    {
      "cell_type": "code",
      "metadata": {
        "id": "ZJ9GIuhEmOOC",
        "colab_type": "code",
        "outputId": "70206ed4-b181-42a7-e6b9-a42120c2923b",
        "colab": {
          "base_uri": "https://localhost:8080/",
          "height": 456
        }
      },
      "source": [
        "# minimo de noites\n",
        "df.minimum_nights.plot(kind='box', vert=False, figsize=(15, 3))\n",
        "plt.show()\n",
        "\n",
        "# ver quantidade de valores acima de 30 dias para minimo de noites\n",
        "print(\"Mínimo de noites : valores acima de 30:\")\n",
        "print(\"{} entradas\".format(len(df[df.minimum_nights > 30])))\n",
        "print(\"{:.4f}%\".format((len(df[df.minimum_nights > 30]) / df.shape[0])*100))\n",
        "\n",
        "df.minimum_nights.plot(kind='box', vert=False, xlim=(0,30), figsize=(15,3));\n"
      ],
      "execution_count": 0,
      "outputs": [
        {
          "output_type": "display_data",
          "data": {
            "image/png": "[encoded data removed]",
            "text/plain": [
              "<Figure size 1080x216 with 1 Axes>"
            ]
          },
          "metadata": {
            "tags": []
          }
        },
        {
          "output_type": "stream",
          "text": [
            "Mínimo de noites : valores acima de 30:\n",
            "148 entradas\n",
            "0.7195%\n"
          ],
          "name": "stdout"
        },
        {
          "output_type": "display_data",
          "data": {
            "image/png": "[encoded data removed]",
            "text/plain": [
              "<Figure size 1080x216 with 1 Axes>"
            ]
          },
          "metadata": {
            "tags": []
          }
        }
      ]
    },
    {
      "cell_type": "markdown",
      "metadata": {
        "id": "g-dL7J80mqOw",
        "colab_type": "text"
      },
      "source": [
        "### **Boxplot para Preço**"
      ]
    },
    {
      "cell_type": "code",
      "metadata": {
        "id": "H_tM7YKHmppD",
        "colab_type": "code",
        "outputId": "6c54f3b1-11bc-496f-eadd-be297c0824f8",
        "colab": {
          "base_uri": "https://localhost:8080/",
          "height": 279
        }
      },
      "source": [
        "# preço\n",
        "df.price.plot(kind='box', vert=False, figsize=(15, 3),)\n",
        "plt.show()\n",
        "\n",
        "\n",
        "# ver quantidade de valores acima de 2800 para price\n",
        "print(\"\\nprice: valores acima de 2800\")\n",
        "print(\"{} entradas\".format(len(df[df.price > 2800])))\n",
        "print(\"{:.4f}%\".format((len(df[df.price > 2800]) / df.shape[0])*100))\n",
        "\n"
      ],
      "execution_count": 0,
      "outputs": [
        {
          "output_type": "display_data",
          "data": {
            "image/png": "[encoded data removed]",
            "text/plain": [
              "<Figure size 1080x216 with 1 Axes>"
            ]
          },
          "metadata": {
            "tags": []
          }
        },
        {
          "output_type": "stream",
          "text": [
            "\n",
            "price: valores acima de 2800\n",
            "1275 entradas\n",
            "6.1980%\n"
          ],
          "name": "stdout"
        }
      ]
    },
    {
      "cell_type": "markdown",
      "metadata": {
        "id": "EgXEgXVbml-n",
        "colab_type": "text"
      },
      "source": [
        "### **Vamos realizar a limpeza de dados**"
      ]
    },
    {
      "cell_type": "code",
      "metadata": {
        "id": "2KxJ3Z_d3E3C",
        "colab_type": "code",
        "colab": {}
      },
      "source": [
        "#limpar  os outliers \n",
        "df_clean = df.copy()\n",
        "df_clean.drop(df_clean[df_clean.price > 2800].index, axis=0, inplace=True)\n",
        "df_clean.drop(df_clean[df_clean.minimum_nights > 30].index, axis=0, inplace=True)\n",
        "df_clean.drop(df_clean[df_clean.price <= 0].index, axis=0, inplace=True)\n"
      ],
      "execution_count": 0,
      "outputs": []
    },
    {
      "cell_type": "markdown",
      "metadata": {
        "id": "EARGZHtUn_zs",
        "colab_type": "text"
      },
      "source": [
        "Agora vamos plotar novamente os gráficos "
      ]
    },
    {
      "cell_type": "code",
      "metadata": {
        "id": "N93XRq5CoDwy",
        "colab_type": "code",
        "outputId": "5bec3ff4-fbd0-4da7-dfac-5398329b60ca",
        "colab": {
          "base_uri": "https://localhost:8080/",
          "height": 607
        }
      },
      "source": [
        "# plotar o histograma para as variáveis numéricas\n",
        "df_clean.hist(bins=15, figsize=(15,10), color = \"#CD853F\");"
      ],
      "execution_count": 0,
      "outputs": [
        {
          "output_type": "display_data",
          "data": {
            "image/png": "[encoded data removed]",
            "text/plain": [
              "<Figure size 1080x720 with 12 Axes>"
            ]
          },
          "metadata": {
            "tags": []
          }
        }
      ]
    },
    {
      "cell_type": "code",
      "metadata": {
        "id": "9-5IAfE1NgjZ",
        "colab_type": "code",
        "outputId": "35e12e5b-f987-4de7-9580-3db4970431ef",
        "colab": {
          "base_uri": "https://localhost:8080/",
          "height": 755
        }
      },
      "source": [
        "from folium import plugins\n",
        "lat = df['latitude'][:500].values\n",
        "long = df['longitude'][:500].values\n",
        "\n",
        "coordenadas = []\n",
        "\n",
        "city_mexico = folium.Map(location=[-19.4194815,-99.1916445],    # Coordenadas retiradas do Google Maps\n",
        "    zoom_start=3)\n",
        "\n",
        "for la,lo in zip(lat,long):\n",
        "    coordenadas.append([la,lo])\n",
        "\n",
        "city_mexico.add_child(plugins.HeatMap(coordenadas))\n",
        "city_mexico\n",
        "\n"
      ],
      "execution_count": 0,
      "outputs": [
        {
          "output_type": "execute_result",
          "data": {
            "text/html": [
              "<div style=\"width:100%;\"><div style=\"position:relative;width:100%;height:0;padding-bottom:60%;\"><iframe src=\"data:text/html;charset=utf-8;base64,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\" style=\"position:absolute;width:100%;height:100%;left:0;top:0;border:none !important;\" allowfullscreen webkitallowfullscreen mozallowfullscreen></iframe></div></div>"
            ],
            "text/plain": [
              "<folium.folium.Map at 0x7ff9a2ad5438>"
            ]
          },
          "metadata": {
            "tags": []
          },
          "execution_count": 77
        }
      ]
    },
    {
      "cell_type": "markdown",
      "metadata": {
        "id": "iaeyP2HFLILy",
        "colab_type": "text"
      },
      "source": [
        "Através do mapa interativo, percebemos uma maior concentração nos bairros centrais. "
      ]
    },
    {
      "cell_type": "markdown",
      "metadata": {
        "id": "AvXP9dn2oRfO",
        "colab_type": "text"
      },
      "source": [
        "###**Q6. Qual a média dos preços do aluguel?**\n"
      ]
    },
    {
      "cell_type": "code",
      "metadata": {
        "id": "ff-8gUahLk-C",
        "colab_type": "code",
        "outputId": "395c4fa5-8874-416a-a728-bc717e1a8a74",
        "colab": {
          "base_uri": "https://localhost:8080/",
          "height": 170
        }
      },
      "source": [
        "df_clean['price'].describe()"
      ],
      "execution_count": 0,
      "outputs": [
        {
          "output_type": "execute_result",
          "data": {
            "text/plain": [
              "count    19152.000000\n",
              "mean       820.214234\n",
              "std        562.394382\n",
              "min         39.000000\n",
              "25%        387.000000\n",
              "50%        659.000000\n",
              "75%       1104.000000\n",
              "max       2789.000000\n",
              "Name: price, dtype: float64"
            ]
          },
          "metadata": {
            "tags": []
          },
          "execution_count": 78
        }
      ]
    },
    {
      "cell_type": "markdown",
      "metadata": {
        "id": "gOPflXS7qt2g",
        "colab_type": "text"
      },
      "source": [
        "Podemos observar que a média dos preços de 659 por dia e o preço máximo é de 1.491. E a metade das acomodações está na faixa de 581."
      ]
    },
    {
      "cell_type": "markdown",
      "metadata": {
        "id": "IXn2oIo5qx-w",
        "colab_type": "text"
      },
      "source": [
        "### **Q5. Qual a correlação existente entre as variáveis**?"
      ]
    },
    {
      "cell_type": "markdown",
      "metadata": {
        "id": "miSrsWdvsB1W",
        "colab_type": "text"
      },
      "source": [
        "###**Correlação**\n",
        "\n",
        "Correlação é uma análise que mede o grau de dependência entre duas variáveis. \n",
        "\n",
        "É necessário compreender que a correlação pode não ter um sentido de causa e efeito. Mas que a ligação entre as variáveis não implica necessariamente um condição para a ocorrência do outro, mas pode indicar possíveis causas que podem ser analisadas através da análise conjunta da matriz de correlação.\n",
        "\n",
        "<center><img alt=\"\" width=\"100%\" src=\"http://comcept.org/wp-content/uploads/oldmedia/autismo-cectic.png\"></center>\n",
        "\n",
        "\n",
        "Aqui está um exemplo disso: \n",
        "\n",
        "Essa charge foi baseada na pesquisa de um ex-médico  chamado Andrew Wakefield que associou  a vacina MMR (que protege contra o sarampo, rubéola e a caxumba) e o desenvolvimento de comportamento autista em algumas crianças. Causando assim, um alarde aos pais que decidiram não vacinar seus filhos, trazendo de volta algumas doenças consideradas erradicadas.\n",
        "\n",
        "\n"
      ]
    },
    {
      "cell_type": "code",
      "metadata": {
        "id": "x2ayzBajqxyd",
        "colab_type": "code",
        "outputId": "a4fade70-8e35-4a51-9fb6-28394d133422",
        "colab": {
          "base_uri": "https://localhost:8080/",
          "height": 235
        }
      },
      "source": [
        "# criar uma matriz de correlação\n",
        "corr = df_clean[['price', 'minimum_nights', 'number_of_reviews', 'reviews_per_month',\n",
        "    'calculated_host_listings_count', 'availability_365']].corr()\n",
        "\n",
        "display(corr)\n"
      ],
      "execution_count": 0,
      "outputs": [
        {
          "output_type": "display_data",
          "data": {
            "text/html": [
              "<div>\n",
              "<style scoped>\n",
              "    .dataframe tbody tr th:only-of-type {\n",
              "        vertical-align: middle;\n",
              "    }\n",
              "\n",
              "    .dataframe tbody tr th {\n",
              "        vertical-align: top;\n",
              "    }\n",
              "\n",
              "    .dataframe thead th {\n",
              "        text-align: right;\n",
              "    }\n",
              "</style>\n",
              "<table border=\"1\" class=\"dataframe\">\n",
              "  <thead>\n",
              "    <tr style=\"text-align: right;\">\n",
              "      <th></th>\n",
              "      <th>price</th>\n",
              "      <th>minimum_nights</th>\n",
              "      <th>number_of_reviews</th>\n",
              "      <th>reviews_per_month</th>\n",
              "      <th>calculated_host_listings_count</th>\n",
              "      <th>availability_365</th>\n",
              "    </tr>\n",
              "  </thead>\n",
              "  <tbody>\n",
              "    <tr>\n",
              "      <th>price</th>\n",
              "      <td>1.000000</td>\n",
              "      <td>-0.049947</td>\n",
              "      <td>0.117299</td>\n",
              "      <td>0.082100</td>\n",
              "      <td>0.181332</td>\n",
              "      <td>0.049387</td>\n",
              "    </tr>\n",
              "    <tr>\n",
              "      <th>minimum_nights</th>\n",
              "      <td>-0.049947</td>\n",
              "      <td>1.000000</td>\n",
              "      <td>-0.104226</td>\n",
              "      <td>-0.172750</td>\n",
              "      <td>-0.073990</td>\n",
              "      <td>-0.023381</td>\n",
              "    </tr>\n",
              "    <tr>\n",
              "      <th>number_of_reviews</th>\n",
              "      <td>0.117299</td>\n",
              "      <td>-0.104226</td>\n",
              "      <td>1.000000</td>\n",
              "      <td>0.558948</td>\n",
              "      <td>0.075434</td>\n",
              "      <td>0.078485</td>\n",
              "    </tr>\n",
              "    <tr>\n",
              "      <th>reviews_per_month</th>\n",
              "      <td>0.082100</td>\n",
              "      <td>-0.172750</td>\n",
              "      <td>0.558948</td>\n",
              "      <td>1.000000</td>\n",
              "      <td>0.135074</td>\n",
              "      <td>0.048997</td>\n",
              "    </tr>\n",
              "    <tr>\n",
              "      <th>calculated_host_listings_count</th>\n",
              "      <td>0.181332</td>\n",
              "      <td>-0.073990</td>\n",
              "      <td>0.075434</td>\n",
              "      <td>0.135074</td>\n",
              "      <td>1.000000</td>\n",
              "      <td>0.130022</td>\n",
              "    </tr>\n",
              "    <tr>\n",
              "      <th>availability_365</th>\n",
              "      <td>0.049387</td>\n",
              "      <td>-0.023381</td>\n",
              "      <td>0.078485</td>\n",
              "      <td>0.048997</td>\n",
              "      <td>0.130022</td>\n",
              "      <td>1.000000</td>\n",
              "    </tr>\n",
              "  </tbody>\n",
              "</table>\n",
              "</div>"
            ],
            "text/plain": [
              "                                   price  ...  availability_365\n",
              "price                           1.000000  ...          0.049387\n",
              "minimum_nights                 -0.049947  ...         -0.023381\n",
              "number_of_reviews               0.117299  ...          0.078485\n",
              "reviews_per_month               0.082100  ...          0.048997\n",
              "calculated_host_listings_count  0.181332  ...          0.130022\n",
              "availability_365                0.049387  ...          1.000000\n",
              "\n",
              "[6 rows x 6 columns]"
            ]
          },
          "metadata": {
            "tags": []
          }
        }
      ]
    },
    {
      "cell_type": "markdown",
      "metadata": {
        "id": "ynGBDN6pxF1e",
        "colab_type": "text"
      },
      "source": [
        "Outra forma de plotar uma correlação entre as variáveis é através do **HeatMap** - Mapa de Calor,  uma representação gráfica de dados. \n"
      ]
    },
    {
      "cell_type": "code",
      "metadata": {
        "id": "91UujDr6ueqE",
        "colab_type": "code",
        "outputId": "a4155437-bf12-464e-f85f-16184a163005",
        "colab": {
          "base_uri": "https://localhost:8080/",
          "height": 411
        }
      },
      "source": [
        "# plotar um heatmap a partir das correlações\n",
        "sns.heatmap(corr, cmap='RdBu_r', fmt='.2f', square=True, linecolor='white', annot=True);"
      ],
      "execution_count": 0,
      "outputs": [
        {
          "output_type": "display_data",
          "data": {
            "image/png": "[encoded data removed]",
            "text/plain": [
              "<Figure size 432x288 with 2 Axes>"
            ]
          },
          "metadata": {
            "tags": []
          }
        }
      ]
    },
    {
      "cell_type": "markdown",
      "metadata": {
        "id": "nq6lIST17tkh",
        "colab_type": "text"
      },
      "source": [
        "Observando o HeatMap as cores mais aproximadas do vermelho representam uma alta correlação, enquanto os valores mais próximo ao azul, indicam uma baixa correlação.\n",
        "\n",
        "Observamos que existe uma  linha central que traz uma alta correlação com o valor 1.0 que é apenas uma associação com as mesmas colunas no eixo x e y. \n",
        "\n",
        "As colunas que trazem uma correlação positiva são `reviews_per_month` e `number_of_reviews`com 0.57. Que podemos inferir que a quantidade de reviews por mês aumenta consequentemente  o  número de reviews.\n",
        "\n",
        "\n",
        " Uma outra observação é a variável `price` e `calculated_host_listings_count`. O que podemos inferir que os imóveis mais caros são de locadores que possui mais anúncios. \n",
        "\n",
        "O `price` também tem correlação negativa com `number_of_reviews` e `reviews_per_month` o que podemos deduzir que os imóveis mais caros são os que possuem menos reviews. O que podemos concluir que esse imóveis são esporadicamente não são alugados. \n",
        "\n",
        "As colunas que possuem correlação negativa são  `availability_365` e  `minium_nights`. Podemos concluir que as acomadações disponíveis mais vezes no ano, são aquelas que possuem o menor número de noites mínimas. \n",
        "\n",
        "Outra correlação negativa são `price` e `minium_nights` que podemos deduzir que imóveis mais caros possuem um maior número de noites."
      ]
    },
    {
      "cell_type": "markdown",
      "metadata": {
        "id": "7b6RMWpuHKN-",
        "colab_type": "text"
      },
      "source": [
        "### **Q7. Qual o tipo de imóvel mais alugado no Airbnb?**"
      ]
    },
    {
      "cell_type": "code",
      "metadata": {
        "id": "ueLPNWvPHgfB",
        "colab_type": "code",
        "outputId": "ea431c3d-609e-4568-b858-3028fcdf9caa",
        "colab": {
          "base_uri": "https://localhost:8080/",
          "height": 102
        }
      },
      "source": [
        "# mostrar a quantidade de cada tipo de imóvel disponível\n",
        "df_clean.room_type.value_counts()"
      ],
      "execution_count": 0,
      "outputs": [
        {
          "output_type": "execute_result",
          "data": {
            "text/plain": [
              "Entire home/apt    9219\n",
              "Private room       9202\n",
              "Hotel room          385\n",
              "Shared room         346\n",
              "Name: room_type, dtype: int64"
            ]
          },
          "metadata": {
            "tags": []
          },
          "execution_count": 81
        }
      ]
    },
    {
      "cell_type": "code",
      "metadata": {
        "id": "EvwoO-XAHhIm",
        "colab_type": "code",
        "outputId": "cf344b1e-e7cf-44f8-ee70-4cd5ecd389e9",
        "colab": {
          "base_uri": "https://localhost:8080/",
          "height": 124
        }
      },
      "source": [
        "# mostrar a porcentagem de cada tipo de imóvel disponível\n",
        "tipos_q = df_clean.room_type.value_counts()\n",
        "\n",
        "quarto_percentual = tipos_q / df_clean.shape[0];\n",
        "pd.DataFrame(quarto_percentual).style.format('{:.2%}')"
      ],
      "execution_count": 0,
      "outputs": [
        {
          "output_type": "execute_result",
          "data": {
            "text/html": [
              "<style  type=\"text/css\" >\n",
              "</style><table id=\"T_875161e8_3e26_11ea_b43b_0242ac1c0002\" ><thead>    <tr>        <th class=\"blank level0\" ></th>        <th class=\"col_heading level0 col0\" >room_type</th>    </tr></thead><tbody>\n",
              "                <tr>\n",
              "                        <th id=\"T_875161e8_3e26_11ea_b43b_0242ac1c0002level0_row0\" class=\"row_heading level0 row0\" >Entire home/apt</th>\n",
              "                        <td id=\"T_875161e8_3e26_11ea_b43b_0242ac1c0002row0_col0\" class=\"data row0 col0\" >48.14%</td>\n",
              "            </tr>\n",
              "            <tr>\n",
              "                        <th id=\"T_875161e8_3e26_11ea_b43b_0242ac1c0002level0_row1\" class=\"row_heading level0 row1\" >Private room</th>\n",
              "                        <td id=\"T_875161e8_3e26_11ea_b43b_0242ac1c0002row1_col0\" class=\"data row1 col0\" >48.05%</td>\n",
              "            </tr>\n",
              "            <tr>\n",
              "                        <th id=\"T_875161e8_3e26_11ea_b43b_0242ac1c0002level0_row2\" class=\"row_heading level0 row2\" >Hotel room</th>\n",
              "                        <td id=\"T_875161e8_3e26_11ea_b43b_0242ac1c0002row2_col0\" class=\"data row2 col0\" >2.01%</td>\n",
              "            </tr>\n",
              "            <tr>\n",
              "                        <th id=\"T_875161e8_3e26_11ea_b43b_0242ac1c0002level0_row3\" class=\"row_heading level0 row3\" >Shared room</th>\n",
              "                        <td id=\"T_875161e8_3e26_11ea_b43b_0242ac1c0002row3_col0\" class=\"data row3 col0\" >1.81%</td>\n",
              "            </tr>\n",
              "    </tbody></table>"
            ],
            "text/plain": [
              "<pandas.io.formats.style.Styler at 0x7ff9a273e080>"
            ]
          },
          "metadata": {
            "tags": []
          },
          "execution_count": 82
        }
      ]
    },
    {
      "cell_type": "markdown",
      "metadata": {
        "id": "e307WEtZEO6X",
        "colab_type": "text"
      },
      "source": [
        "Dos imóveis disponíveis no DataFrame, aproximadamente: \n",
        " \n",
        "\n",
        "* 48,14% são quartos privativos\n",
        "* 48,05% são casas ou apartamentos alugados \n",
        "* 2,01 % são quartos compartilhados\n",
        "* 1,81% são quartos de hotel \n",
        "\n",
        "Demonstrando que a quantidade de quartos privativos tem percentuais similares.\n",
        "\n",
        "\n",
        "\n",
        "\n"
      ]
    },
    {
      "cell_type": "markdown",
      "metadata": {
        "id": "MFa5NbnLJMcd",
        "colab_type": "text"
      },
      "source": [
        "### **Q8. Qual a localidade mais cara do dataset?**\n",
        "\n"
      ]
    },
    {
      "cell_type": "code",
      "metadata": {
        "id": "MD_xa143JZpi",
        "colab_type": "code",
        "outputId": "c436c6ab-06e7-459a-924e-6c9222ee5d1b",
        "colab": {
          "base_uri": "https://localhost:8080/",
          "height": 221
        }
      },
      "source": [
        "# ver preços por bairros, na média\n",
        "df_clean.groupby([\"neighbourhood\"]).price.mean().sort_values(ascending=False)[:10]"
      ],
      "execution_count": 0,
      "outputs": [
        {
          "output_type": "execute_result",
          "data": {
            "text/plain": [
              "neighbourhood\n",
              "Miguel Hidalgo            1043.750521\n",
              "Cuajimalpa de Morelos     1023.010256\n",
              "Cuauhtémoc                 938.088702\n",
              "Álvaro Obregón             762.113229\n",
              "La Magdalena Contreras     696.029630\n",
              "Benito Juárez              656.347053\n",
              "Coyoacán                   646.456674\n",
              "Milpa Alta                 634.187500\n",
              "Venustiano Carranza        580.507003\n",
              "Tlalpan                    548.786585\n",
              "Name: price, dtype: float64"
            ]
          },
          "metadata": {
            "tags": []
          },
          "execution_count": 83
        }
      ]
    },
    {
      "cell_type": "markdown",
      "metadata": {
        "id": "dW-CarZ24Aau",
        "colab_type": "text"
      },
      "source": [
        "## **Conclusões:**\n",
        "\n",
        "Analisando a lista de preços por bairros e pesquisa em site de viagem, chegamos a seguinte hipotése: Um bairro como o Coyoacán que possui um Mercado conhecido e o museu da Frida Kahlo e que  aparece em várias listas de melhores bairros provavelmente apareceria entre as cinco regiões mais caras. \n",
        "\n",
        "\n",
        "\n",
        "Os links utilizados para essa conclusão estão a seguir:\n",
        "\n",
        "a) [TripAdivsor](https://www.tripadvisor.com.br/Attractions-g150800-Activities-c47-t34-Mexico_City_Central_Mexico_and_Gulf_Coast.html)\n",
        "\n",
        "b) [Quero viajar mais](https://www.queroviajarmais.com/onde-ficar-se-hospedar-cidade-do-mexico/)\n",
        "\n",
        "c) [Airbnb - Cidade do México](https://www.airbnb.com.br/locations/mexico-city)\n",
        "\n"
      ]
    },
    {
      "cell_type": "markdown",
      "metadata": {
        "id": "33Ac7rlu-qJv",
        "colab_type": "text"
      },
      "source": [
        "Como esses bairros não estão no nosso dataset, vamos ter que ***minerar*** mais os dados.\n",
        "\n",
        "Vamos analisar através da quantidade de móveis em cada bairro. \n",
        "\n"
      ]
    },
    {
      "cell_type": "code",
      "metadata": {
        "id": "dyvdzQLK--rD",
        "colab_type": "code",
        "outputId": "147f0155-5e34-45de-90d9-66cb377dfc52",
        "colab": {
          "base_uri": "https://localhost:8080/",
          "height": 204
        }
      },
      "source": [
        "df_clean[\"neighbourhood\"].value_counts().sort_values(ascending = False)[:10]"
      ],
      "execution_count": 0,
      "outputs": [
        {
          "output_type": "execute_result",
          "data": {
            "text/plain": [
              "Cuauhtémoc               7497\n",
              "Benito Juárez            3207\n",
              "Miguel Hidalgo           2878\n",
              "Coyoacán                 1708\n",
              "Álvaro Obregón            892\n",
              "Tlalpan                   820\n",
              "Cuajimalpa de Morelos     390\n",
              "Venustiano Carranza       357\n",
              "Gustavo A. Madero         329\n",
              "Iztacalco                 261\n",
              "Name: neighbourhood, dtype: int64"
            ]
          },
          "metadata": {
            "tags": []
          },
          "execution_count": 84
        }
      ]
    },
    {
      "cell_type": "markdown",
      "metadata": {
        "id": "zTZ0tpiEAt68",
        "colab_type": "text"
      },
      "source": [
        "Verificamos uma distribuição diferente da anterior. Temos alguns bairros com menos de 37 imóveis, então pela média há uma dispersão de dados. "
      ]
    },
    {
      "cell_type": "markdown",
      "metadata": {
        "id": "-YUoaOJG0OeU",
        "colab_type": "text"
      },
      "source": [
        "Vamos verificar os cinco primeiras acomodações do bairro mais caro da nossa primeira analise \"Cuajimalpa de Morelos\""
      ]
    },
    {
      "cell_type": "code",
      "metadata": {
        "id": "ogSLRJxXEatJ",
        "colab_type": "code",
        "outputId": "93a612d4-896b-4076-8408-b20085dd4a41",
        "colab": {
          "base_uri": "https://localhost:8080/",
          "height": 549
        }
      },
      "source": [
        "df_clean[df_clean.neighbourhood == \"Cuajimalpa de Morelos\"][:10]\n"
      ],
      "execution_count": 0,
      "outputs": [
        {
          "output_type": "execute_result",
          "data": {
            "text/html": [
              "<div>\n",
              "<style scoped>\n",
              "    .dataframe tbody tr th:only-of-type {\n",
              "        vertical-align: middle;\n",
              "    }\n",
              "\n",
              "    .dataframe tbody tr th {\n",
              "        vertical-align: top;\n",
              "    }\n",
              "\n",
              "    .dataframe thead th {\n",
              "        text-align: right;\n",
              "    }\n",
              "</style>\n",
              "<table border=\"1\" class=\"dataframe\">\n",
              "  <thead>\n",
              "    <tr style=\"text-align: right;\">\n",
              "      <th></th>\n",
              "      <th>id</th>\n",
              "      <th>name</th>\n",
              "      <th>host_id</th>\n",
              "      <th>host_name</th>\n",
              "      <th>neighbourhood_group</th>\n",
              "      <th>neighbourhood</th>\n",
              "      <th>latitude</th>\n",
              "      <th>longitude</th>\n",
              "      <th>room_type</th>\n",
              "      <th>price</th>\n",
              "      <th>minimum_nights</th>\n",
              "      <th>number_of_reviews</th>\n",
              "      <th>last_review</th>\n",
              "      <th>reviews_per_month</th>\n",
              "      <th>calculated_host_listings_count</th>\n",
              "      <th>availability_365</th>\n",
              "    </tr>\n",
              "  </thead>\n",
              "  <tbody>\n",
              "    <tr>\n",
              "      <th>116</th>\n",
              "      <td>783480</td>\n",
              "      <td>Area Sta.Fe,IberoABC Hospital Rooms</td>\n",
              "      <td>4129056</td>\n",
              "      <td>Janet</td>\n",
              "      <td>NaN</td>\n",
              "      <td>Cuajimalpa de Morelos</td>\n",
              "      <td>19.35213</td>\n",
              "      <td>-99.28565</td>\n",
              "      <td>Private room</td>\n",
              "      <td>349</td>\n",
              "      <td>2</td>\n",
              "      <td>26</td>\n",
              "      <td>2018-12-16</td>\n",
              "      <td>0.38</td>\n",
              "      <td>2</td>\n",
              "      <td>360</td>\n",
              "    </tr>\n",
              "    <tr>\n",
              "      <th>364</th>\n",
              "      <td>2730414</td>\n",
              "      <td>Hermosa casa estilo chalet a 7 min de Santa Fe</td>\n",
              "      <td>13973690</td>\n",
              "      <td>Helen</td>\n",
              "      <td>NaN</td>\n",
              "      <td>Cuajimalpa de Morelos</td>\n",
              "      <td>19.34912</td>\n",
              "      <td>-99.29076</td>\n",
              "      <td>Entire home/apt</td>\n",
              "      <td>600</td>\n",
              "      <td>2</td>\n",
              "      <td>0</td>\n",
              "      <td>NaN</td>\n",
              "      <td>NaN</td>\n",
              "      <td>1</td>\n",
              "      <td>262</td>\n",
              "    </tr>\n",
              "    <tr>\n",
              "      <th>383</th>\n",
              "      <td>2894095</td>\n",
              "      <td>Two room suite into the best hotel of Santa Fe</td>\n",
              "      <td>14791549</td>\n",
              "      <td>Juan Pablo</td>\n",
              "      <td>NaN</td>\n",
              "      <td>Cuajimalpa de Morelos</td>\n",
              "      <td>19.35965</td>\n",
              "      <td>-99.27968</td>\n",
              "      <td>Entire home/apt</td>\n",
              "      <td>1918</td>\n",
              "      <td>2</td>\n",
              "      <td>82</td>\n",
              "      <td>2019-10-20</td>\n",
              "      <td>1.29</td>\n",
              "      <td>3</td>\n",
              "      <td>354</td>\n",
              "    </tr>\n",
              "    <tr>\n",
              "      <th>504</th>\n",
              "      <td>3843651</td>\n",
              "      <td>Santa Fe luxury apartment @ Distrito Capital H...</td>\n",
              "      <td>19464589</td>\n",
              "      <td>María &amp; José</td>\n",
              "      <td>NaN</td>\n",
              "      <td>Cuajimalpa de Morelos</td>\n",
              "      <td>19.35932</td>\n",
              "      <td>-99.27838</td>\n",
              "      <td>Hotel room</td>\n",
              "      <td>2692</td>\n",
              "      <td>2</td>\n",
              "      <td>74</td>\n",
              "      <td>2019-11-14</td>\n",
              "      <td>1.26</td>\n",
              "      <td>2</td>\n",
              "      <td>365</td>\n",
              "    </tr>\n",
              "    <tr>\n",
              "      <th>699</th>\n",
              "      <td>5013545</td>\n",
              "      <td>Big, charming house with garden, 5min. to Sant...</td>\n",
              "      <td>159138</td>\n",
              "      <td>Philip</td>\n",
              "      <td>NaN</td>\n",
              "      <td>Cuajimalpa de Morelos</td>\n",
              "      <td>19.34067</td>\n",
              "      <td>-99.30935</td>\n",
              "      <td>Entire home/apt</td>\n",
              "      <td>1278</td>\n",
              "      <td>30</td>\n",
              "      <td>0</td>\n",
              "      <td>NaN</td>\n",
              "      <td>NaN</td>\n",
              "      <td>2</td>\n",
              "      <td>362</td>\n",
              "    </tr>\n",
              "    <tr>\n",
              "      <th>763</th>\n",
              "      <td>5340024</td>\n",
              "      <td>Cozy suite in Santa Fe área</td>\n",
              "      <td>27670506</td>\n",
              "      <td>Eva</td>\n",
              "      <td>NaN</td>\n",
              "      <td>Cuajimalpa de Morelos</td>\n",
              "      <td>19.36601</td>\n",
              "      <td>-99.27123</td>\n",
              "      <td>Entire home/apt</td>\n",
              "      <td>1220</td>\n",
              "      <td>2</td>\n",
              "      <td>16</td>\n",
              "      <td>2017-02-07</td>\n",
              "      <td>0.30</td>\n",
              "      <td>2</td>\n",
              "      <td>0</td>\n",
              "    </tr>\n",
              "    <tr>\n",
              "      <th>836</th>\n",
              "      <td>5750544</td>\n",
              "      <td>Santa Fe,Ibero,ITESM,Recamara</td>\n",
              "      <td>4129056</td>\n",
              "      <td>Janet</td>\n",
              "      <td>NaN</td>\n",
              "      <td>Cuajimalpa de Morelos</td>\n",
              "      <td>19.35414</td>\n",
              "      <td>-99.28533</td>\n",
              "      <td>Private room</td>\n",
              "      <td>387</td>\n",
              "      <td>2</td>\n",
              "      <td>13</td>\n",
              "      <td>2019-11-02</td>\n",
              "      <td>0.30</td>\n",
              "      <td>2</td>\n",
              "      <td>356</td>\n",
              "    </tr>\n",
              "    <tr>\n",
              "      <th>882</th>\n",
              "      <td>6018314</td>\n",
              "      <td>Habitación en zona exclusiva</td>\n",
              "      <td>31239663</td>\n",
              "      <td>Liz</td>\n",
              "      <td>NaN</td>\n",
              "      <td>Cuajimalpa de Morelos</td>\n",
              "      <td>19.36841</td>\n",
              "      <td>-99.29375</td>\n",
              "      <td>Private room</td>\n",
              "      <td>600</td>\n",
              "      <td>1</td>\n",
              "      <td>1</td>\n",
              "      <td>2019-02-17</td>\n",
              "      <td>0.11</td>\n",
              "      <td>1</td>\n",
              "      <td>365</td>\n",
              "    </tr>\n",
              "    <tr>\n",
              "      <th>999</th>\n",
              "      <td>6541442</td>\n",
              "      <td>LOCATION &amp; COMFORT IN SANTA FE</td>\n",
              "      <td>24168308</td>\n",
              "      <td>Cesar</td>\n",
              "      <td>NaN</td>\n",
              "      <td>Cuajimalpa de Morelos</td>\n",
              "      <td>19.35742</td>\n",
              "      <td>-99.28325</td>\n",
              "      <td>Entire home/apt</td>\n",
              "      <td>1550</td>\n",
              "      <td>3</td>\n",
              "      <td>22</td>\n",
              "      <td>2019-07-19</td>\n",
              "      <td>0.43</td>\n",
              "      <td>1</td>\n",
              "      <td>359</td>\n",
              "    </tr>\n",
              "    <tr>\n",
              "      <th>1018</th>\n",
              "      <td>6646524</td>\n",
              "      <td>Amueblado, renta meses completos</td>\n",
              "      <td>34057930</td>\n",
              "      <td>Suites</td>\n",
              "      <td>NaN</td>\n",
              "      <td>Cuajimalpa de Morelos</td>\n",
              "      <td>19.39387</td>\n",
              "      <td>-99.26021</td>\n",
              "      <td>Private room</td>\n",
              "      <td>659</td>\n",
              "      <td>1</td>\n",
              "      <td>0</td>\n",
              "      <td>NaN</td>\n",
              "      <td>NaN</td>\n",
              "      <td>1</td>\n",
              "      <td>365</td>\n",
              "    </tr>\n",
              "  </tbody>\n",
              "</table>\n",
              "</div>"
            ],
            "text/plain": [
              "           id  ... availability_365\n",
              "116    783480  ...              360\n",
              "364   2730414  ...              262\n",
              "383   2894095  ...              354\n",
              "504   3843651  ...              365\n",
              "699   5013545  ...              362\n",
              "763   5340024  ...                0\n",
              "836   5750544  ...              356\n",
              "882   6018314  ...              365\n",
              "999   6541442  ...              359\n",
              "1018  6646524  ...              365\n",
              "\n",
              "[10 rows x 16 columns]"
            ]
          },
          "metadata": {
            "tags": []
          },
          "execution_count": 85
        }
      ]
    },
    {
      "cell_type": "code",
      "metadata": {
        "id": "aC7wADGTPF4M",
        "colab_type": "code",
        "outputId": "70b8ed84-e3e0-4da4-a75d-6088e2772775",
        "colab": {
          "base_uri": "https://localhost:8080/",
          "height": 906
        }
      },
      "source": [
        "df_clean[df_clean.neighbourhood == \"Cuauhtémoc\"][:10]"
      ],
      "execution_count": 0,
      "outputs": [
        {
          "output_type": "execute_result",
          "data": {
            "text/html": [
              "<div>\n",
              "<style scoped>\n",
              "    .dataframe tbody tr th:only-of-type {\n",
              "        vertical-align: middle;\n",
              "    }\n",
              "\n",
              "    .dataframe tbody tr th {\n",
              "        vertical-align: top;\n",
              "    }\n",
              "\n",
              "    .dataframe thead th {\n",
              "        text-align: right;\n",
              "    }\n",
              "</style>\n",
              "<table border=\"1\" class=\"dataframe\">\n",
              "  <thead>\n",
              "    <tr style=\"text-align: right;\">\n",
              "      <th></th>\n",
              "      <th>id</th>\n",
              "      <th>name</th>\n",
              "      <th>host_id</th>\n",
              "      <th>host_name</th>\n",
              "      <th>neighbourhood_group</th>\n",
              "      <th>neighbourhood</th>\n",
              "      <th>latitude</th>\n",
              "      <th>longitude</th>\n",
              "      <th>room_type</th>\n",
              "      <th>price</th>\n",
              "      <th>minimum_nights</th>\n",
              "      <th>number_of_reviews</th>\n",
              "      <th>last_review</th>\n",
              "      <th>reviews_per_month</th>\n",
              "      <th>calculated_host_listings_count</th>\n",
              "      <th>availability_365</th>\n",
              "    </tr>\n",
              "  </thead>\n",
              "  <tbody>\n",
              "    <tr>\n",
              "      <th>0</th>\n",
              "      <td>22787</td>\n",
              "      <td>Sunny suite w/ queen size bed, inside boutique...</td>\n",
              "      <td>87973</td>\n",
              "      <td>Diego</td>\n",
              "      <td>NaN</td>\n",
              "      <td>Cuauhtémoc</td>\n",
              "      <td>19.44076</td>\n",
              "      <td>-99.16324</td>\n",
              "      <td>Private room</td>\n",
              "      <td>1995</td>\n",
              "      <td>1</td>\n",
              "      <td>57</td>\n",
              "      <td>2019-05-27</td>\n",
              "      <td>0.50</td>\n",
              "      <td>8</td>\n",
              "      <td>332</td>\n",
              "    </tr>\n",
              "    <tr>\n",
              "      <th>2</th>\n",
              "      <td>44616</td>\n",
              "      <td>CONDESA HAUS  B&amp;B</td>\n",
              "      <td>196253</td>\n",
              "      <td>Condesa Haus Bed &amp; Breakfast  CDMX</td>\n",
              "      <td>NaN</td>\n",
              "      <td>Cuauhtémoc</td>\n",
              "      <td>19.41006</td>\n",
              "      <td>-99.17645</td>\n",
              "      <td>Private room</td>\n",
              "      <td>1898</td>\n",
              "      <td>1</td>\n",
              "      <td>42</td>\n",
              "      <td>2019-11-04</td>\n",
              "      <td>0.43</td>\n",
              "      <td>10</td>\n",
              "      <td>353</td>\n",
              "    </tr>\n",
              "    <tr>\n",
              "      <th>3</th>\n",
              "      <td>58955</td>\n",
              "      <td>Entire beautiful duplex in la Roma</td>\n",
              "      <td>282620</td>\n",
              "      <td>Nat</td>\n",
              "      <td>NaN</td>\n",
              "      <td>Cuauhtémoc</td>\n",
              "      <td>19.42292</td>\n",
              "      <td>-99.15775</td>\n",
              "      <td>Entire home/apt</td>\n",
              "      <td>1646</td>\n",
              "      <td>3</td>\n",
              "      <td>40</td>\n",
              "      <td>2019-11-07</td>\n",
              "      <td>0.41</td>\n",
              "      <td>1</td>\n",
              "      <td>132</td>\n",
              "    </tr>\n",
              "    <tr>\n",
              "      <th>7</th>\n",
              "      <td>99972</td>\n",
              "      <td>Dreamy suite w/ king size bed in boutique B&amp;B</td>\n",
              "      <td>87973</td>\n",
              "      <td>Diego</td>\n",
              "      <td>NaN</td>\n",
              "      <td>Cuauhtémoc</td>\n",
              "      <td>19.44268</td>\n",
              "      <td>-99.16371</td>\n",
              "      <td>Private room</td>\n",
              "      <td>2789</td>\n",
              "      <td>1</td>\n",
              "      <td>0</td>\n",
              "      <td>NaN</td>\n",
              "      <td>NaN</td>\n",
              "      <td>8</td>\n",
              "      <td>317</td>\n",
              "    </tr>\n",
              "    <tr>\n",
              "      <th>12</th>\n",
              "      <td>175504</td>\n",
              "      <td>Casa Comtesse B&amp;B, Gallery Hotel, 7 rooms</td>\n",
              "      <td>838896</td>\n",
              "      <td>Thomas Pierre</td>\n",
              "      <td>NaN</td>\n",
              "      <td>Cuauhtémoc</td>\n",
              "      <td>19.40631</td>\n",
              "      <td>-99.17303</td>\n",
              "      <td>Private room</td>\n",
              "      <td>1414</td>\n",
              "      <td>1</td>\n",
              "      <td>52</td>\n",
              "      <td>2019-10-31</td>\n",
              "      <td>0.56</td>\n",
              "      <td>4</td>\n",
              "      <td>122</td>\n",
              "    </tr>\n",
              "    <tr>\n",
              "      <th>13</th>\n",
              "      <td>180808</td>\n",
              "      <td>Huge Luxurious Suite 70's style, perfectly loc...</td>\n",
              "      <td>36836</td>\n",
              "      <td>Roberto</td>\n",
              "      <td>NaN</td>\n",
              "      <td>Cuauhtémoc</td>\n",
              "      <td>19.42428</td>\n",
              "      <td>-99.16843</td>\n",
              "      <td>Entire home/apt</td>\n",
              "      <td>1046</td>\n",
              "      <td>2</td>\n",
              "      <td>35</td>\n",
              "      <td>2019-11-18</td>\n",
              "      <td>0.38</td>\n",
              "      <td>1</td>\n",
              "      <td>357</td>\n",
              "    </tr>\n",
              "    <tr>\n",
              "      <th>14</th>\n",
              "      <td>187030</td>\n",
              "      <td>Colorful and spacious Apt. Family favorite</td>\n",
              "      <td>899360</td>\n",
              "      <td>Julian</td>\n",
              "      <td>NaN</td>\n",
              "      <td>Cuauhtémoc</td>\n",
              "      <td>19.41033</td>\n",
              "      <td>-99.17647</td>\n",
              "      <td>Entire home/apt</td>\n",
              "      <td>1123</td>\n",
              "      <td>3</td>\n",
              "      <td>97</td>\n",
              "      <td>2019-09-29</td>\n",
              "      <td>0.99</td>\n",
              "      <td>6</td>\n",
              "      <td>0</td>\n",
              "    </tr>\n",
              "    <tr>\n",
              "      <th>15</th>\n",
              "      <td>187745</td>\n",
              "      <td>Extraordinarily Spacious Apt. in Condesa</td>\n",
              "      <td>899360</td>\n",
              "      <td>Julian</td>\n",
              "      <td>NaN</td>\n",
              "      <td>Cuauhtémoc</td>\n",
              "      <td>19.41086</td>\n",
              "      <td>-99.17704</td>\n",
              "      <td>Entire home/apt</td>\n",
              "      <td>1840</td>\n",
              "      <td>2</td>\n",
              "      <td>24</td>\n",
              "      <td>2018-01-03</td>\n",
              "      <td>0.33</td>\n",
              "      <td>6</td>\n",
              "      <td>36</td>\n",
              "    </tr>\n",
              "    <tr>\n",
              "      <th>16</th>\n",
              "      <td>194937</td>\n",
              "      <td>Sunny and fresh Retro style Apartment</td>\n",
              "      <td>899360</td>\n",
              "      <td>Julian</td>\n",
              "      <td>NaN</td>\n",
              "      <td>Cuauhtémoc</td>\n",
              "      <td>19.41113</td>\n",
              "      <td>-99.17762</td>\n",
              "      <td>Entire home/apt</td>\n",
              "      <td>1162</td>\n",
              "      <td>3</td>\n",
              "      <td>64</td>\n",
              "      <td>2019-10-29</td>\n",
              "      <td>0.66</td>\n",
              "      <td>6</td>\n",
              "      <td>176</td>\n",
              "    </tr>\n",
              "    <tr>\n",
              "      <th>17</th>\n",
              "      <td>198778</td>\n",
              "      <td>Smack in the Middle of La Condesa</td>\n",
              "      <td>970609</td>\n",
              "      <td>Morgana &amp; Omar</td>\n",
              "      <td>NaN</td>\n",
              "      <td>Cuauhtémoc</td>\n",
              "      <td>19.41395</td>\n",
              "      <td>-99.17948</td>\n",
              "      <td>Entire home/apt</td>\n",
              "      <td>930</td>\n",
              "      <td>2</td>\n",
              "      <td>161</td>\n",
              "      <td>2019-06-17</td>\n",
              "      <td>1.61</td>\n",
              "      <td>2</td>\n",
              "      <td>287</td>\n",
              "    </tr>\n",
              "  </tbody>\n",
              "</table>\n",
              "</div>"
            ],
            "text/plain": [
              "        id  ... availability_365\n",
              "0    22787  ...              332\n",
              "2    44616  ...              353\n",
              "3    58955  ...              132\n",
              "7    99972  ...              317\n",
              "12  175504  ...              122\n",
              "13  180808  ...              357\n",
              "14  187030  ...                0\n",
              "15  187745  ...               36\n",
              "16  194937  ...              176\n",
              "17  198778  ...              287\n",
              "\n",
              "[10 rows x 16 columns]"
            ]
          },
          "metadata": {
            "tags": []
          },
          "execution_count": 86
        }
      ]
    },
    {
      "cell_type": "markdown",
      "metadata": {
        "id": "rWJJwdgc_KQi",
        "colab_type": "text"
      },
      "source": [
        "Observando os dois demonstrativos de acomadações dos bairros **\"Cuajimalpa de Morelos\"** e **\"Cuauhtémoc\"**. O último apresenta uma maior quantidade de acomodações e os preços aparentemente mais elevados, o que demonstra que o cálculo da média não foi suficiente para apresentar o bairro mais caro. Iremos utilizar outra abordagem que será a **mediana**"
      ]
    },
    {
      "cell_type": "code",
      "metadata": {
        "id": "xHp5Rdyk_47c",
        "colab_type": "code",
        "outputId": "48febf5c-57ab-4c80-a5e1-ffe6ce92a5ce",
        "colab": {
          "base_uri": "https://localhost:8080/",
          "height": 221
        }
      },
      "source": [
        "df_clean.groupby([\"neighbourhood\"]).price.median().sort_values(ascending=False)[:10]"
      ],
      "execution_count": 0,
      "outputs": [
        {
          "output_type": "execute_result",
          "data": {
            "text/plain": [
              "neighbourhood\n",
              "Miguel Hidalgo            910\n",
              "Cuajimalpa de Morelos     891\n",
              "Cuauhtémoc                813\n",
              "Álvaro Obregón            581\n",
              "Benito Juárez             523\n",
              "La Magdalena Contreras    504\n",
              "Coyoacán                  504\n",
              "Milpa Alta                484\n",
              "Venustiano Carranza       445\n",
              "Iztacalco                 426\n",
              "Name: price, dtype: int64"
            ]
          },
          "metadata": {
            "tags": []
          },
          "execution_count": 87
        }
      ]
    },
    {
      "cell_type": "markdown",
      "metadata": {
        "id": "IhmQNfU9cmlt",
        "colab_type": "text"
      },
      "source": [
        "Pela mediana os dois bairros mais caros são Miguel Hidalgo e Cuajimalpa de Morelos são bairros próximos situados na parte oeste da Cidade do México. Percebemos também que o bairro Coyancán possui o maior número de imóveis o que confirma que é um bairro bem turístico. \n",
        "Miguel Hidalgo faz fronteira com Azcapotzalco a norte; com Álvaro Obregón, Benito Juárez e Cuajimalpa de Morelos a sul; e com Cuauhtémoc a leste.\n",
        "Percebemos que os 5 bairros mais caros fazem parte da mesma demarcação territorial. \n",
        "\n"
      ]
    },
    {
      "cell_type": "code",
      "metadata": {
        "id": "UxVJqJ_3W59I",
        "colab_type": "code",
        "outputId": "28830ae5-7659-46d7-884d-39e695415f08",
        "colab": {
          "base_uri": "https://localhost:8080/",
          "height": 469
        }
      },
      "source": [
        "# plotar os imóveis pela latitude-longitude\n",
        "df_clean.plot(kind=\"scatter\", x='longitude', y='latitude', alpha=0.4, c=df_clean['price'], s=8,\n",
        "              cmap=plt.get_cmap('tab20c'), figsize=(12,8));"
      ],
      "execution_count": 0,
      "outputs": [
        {
          "output_type": "display_data",
          "data": {
            "image/png": "[encoded data removed]",
            "text/plain": [
              "<Figure size 864x576 with 2 Axes>"
            ]
          },
          "metadata": {
            "tags": []
          }
        }
      ]
    },
    {
      "cell_type": "markdown",
      "metadata": {
        "id": "vTneAMRUYvr1",
        "colab_type": "text"
      },
      "source": [
        "### **Q8. Qual é a média do mínimo de noites para aluguel (minimum_nights)?**"
      ]
    },
    {
      "cell_type": "code",
      "metadata": {
        "id": "_VzNhrEgY82N",
        "colab_type": "code",
        "outputId": "81fb52af-9679-4d14-c338-34ff6691010c",
        "colab": {
          "base_uri": "https://localhost:8080/",
          "height": 34
        }
      },
      "source": [
        "# ver a média da coluna `minimum_nights``\n",
        "df.minimum_nights.mean()"
      ],
      "execution_count": 0,
      "outputs": [
        {
          "output_type": "execute_result",
          "data": {
            "text/plain": [
              "3.760196392980409"
            ]
          },
          "metadata": {
            "tags": []
          },
          "execution_count": 89
        }
      ]
    },
    {
      "cell_type": "markdown",
      "metadata": {
        "id": "fsPPEySkJPZL",
        "colab_type": "text"
      },
      "source": [
        "O mínimo de noite são 3 dias, o que podemos deduzir que seja um  final de semana ou feriados. "
      ]
    },
    {
      "cell_type": "markdown",
      "metadata": {
        "id": "XLPYbpFiJeLT",
        "colab_type": "text"
      },
      "source": [
        "##**Conclusões**: \n",
        "\n",
        "Foi feita apenas uma análise superficial na base de dados do Airbnb, porém já se percebeu que existem outliers em algumas das variáveis e se esses dados não forem tratados podem sugerir interpretações equivocadas. \n",
        "\n",
        "Por fim, lembra-se que este dataset é uma versão resumida, ideal apenas para uma abordagem inicial. Recomenda-se que seja usado, em uma próxima análise exploratória, o conjunto de dados completos, com 106 atributos disponíveis.\n",
        "\n",
        "\n",
        "\n",
        "\n",
        "\n"
      ]
    }
  ]
}