{
  "nbformat": 4,
  "nbformat_minor": 0,
  "metadata": {
    "colab": {
      "name": "Desafio Final .ipynb",
      "provenance": [],
      "authorship_tag": "ABX9TyPqn3r8fabWXgM/M7HkZbdU",
      "include_colab_link": true
    },
    "kernelspec": {
      "name": "python3",
      "display_name": "Python 3"
    }
  },
  "cells": [
    {
      "cell_type": "markdown",
      "metadata": {
        "id": "view-in-github",
        "colab_type": "text"
      },
      "source": [
        "<a href=\"https://colab.research.google.com/github/prisantos/portfolio_datascience/blob/master/Desafio_Final_.ipynb\" target=\"_parent\"><img src=\"https://colab.research.google.com/assets/colab-badge.svg\" alt=\"Open In Colab\"/></a>"
      ]
    },
    {
      "cell_type": "markdown",
      "metadata": {
        "id": "Tgt3XSL2EZFU",
        "colab_type": "text"
      },
      "source": [
        "O projeto consiste em uma conciliação do valor total de vendas de recarga de celular por operadora e por loja. A Bemol recebe um arquivo de uma empresa financeira (detalhamento_m4u.xlsx) onde possui o valor consolidado de vendas e o objetivo é verificar se os dados do SAP (mcg3.csv) estão de acordo com o informado. Gerar um alerta caso os valores estejam divergentes.\n",
        "\n",
        "Dica:\n",
        "Os dados do SAP vêm separados por cada transição de venda realizada. A ideia é de agrupar esses dados para deixá-los no formato parecido com que recebemos da empresa externa e, assim, poder unificar as tabelas e fazer a comparação.\n"
      ]
    },
    {
      "cell_type": "markdown",
      "metadata": {
        "id": "aufYdkvFGBqt",
        "colab_type": "text"
      },
      "source": [
        "# 1. Leitura dos dados "
      ]
    },
    {
      "cell_type": "markdown",
      "metadata": {
        "id": "X3jaCloPGJ96",
        "colab_type": "text"
      },
      "source": [
        "Vamos fazer a leitura dos dados da empresa financeira (detalhamento_m4u.xlsx) e os dados do sistema SAP (mcg3.csv)"
      ]
    },
    {
      "cell_type": "code",
      "metadata": {
        "id": "tpWd5iG7haXV",
        "colab_type": "code",
        "colab": {}
      },
      "source": [
        "import pandas as pd \n",
        "import numpy as np"
      ],
      "execution_count": 0,
      "outputs": []
    },
    {
      "cell_type": "code",
      "metadata": {
        "id": "NgbSj9hei5H-",
        "colab_type": "code",
        "colab": {}
      },
      "source": [
        "df_venda = pd.read_csv('/content/mcg3.csv', sep='|', encoding='utf8')"
      ],
      "execution_count": 0,
      "outputs": []
    },
    {
      "cell_type": "code",
      "metadata": {
        "id": "-8GlO37xot2b",
        "colab_type": "code",
        "colab": {}
      },
      "source": [
        "df_financeira = pd.concat(pd.read_excel('/content/detalhamento_m4u.xlsx',sheet_name=None, skiprows=1), ignore_index=True)"
      ],
      "execution_count": 0,
      "outputs": []
    },
    {
      "cell_type": "markdown",
      "metadata": {
        "id": "ttnhX2jKyHsN",
        "colab_type": "text"
      },
      "source": [
        "# 2. Tratamento de Dados  "
      ]
    },
    {
      "cell_type": "markdown",
      "metadata": {
        "id": "YhvSCGVg2RuR",
        "colab_type": "text"
      },
      "source": [
        "2.1 Verificando os DataFrames"
      ]
    },
    {
      "cell_type": "code",
      "metadata": {
        "id": "wAbn6LxZyO_x",
        "colab_type": "code",
        "outputId": "53ba52b5-99d4-4a7d-94ff-eee257ef50cd",
        "colab": {
          "base_uri": "https://localhost:8080/",
          "height": 204
        }
      },
      "source": [
        "df_venda.head()\n"
      ],
      "execution_count": 0,
      "outputs": [
        {
          "output_type": "execute_result",
          "data": {
            "text/html": [
              "<div>\n",
              "<style scoped>\n",
              "    .dataframe tbody tr th:only-of-type {\n",
              "        vertical-align: middle;\n",
              "    }\n",
              "\n",
              "    .dataframe tbody tr th {\n",
              "        vertical-align: top;\n",
              "    }\n",
              "\n",
              "    .dataframe thead th {\n",
              "        text-align: right;\n",
              "    }\n",
              "</style>\n",
              "<table border=\"1\" class=\"dataframe\">\n",
              "  <thead>\n",
              "    <tr style=\"text-align: right;\">\n",
              "      <th></th>\n",
              "      <th>Escritório de vendas</th>\n",
              "      <th>Fornecedor</th>\n",
              "      <th>Material</th>\n",
              "      <th>Data</th>\n",
              "      <th>Val.líq.</th>\n",
              "    </tr>\n",
              "  </thead>\n",
              "  <tbody>\n",
              "    <tr>\n",
              "      <th>0</th>\n",
              "      <td>101</td>\n",
              "      <td>VIVO</td>\n",
              "      <td>131318             RECARGA VIRTUAL VIVO R$ 1,00</td>\n",
              "      <td>02.01.2020</td>\n",
              "      <td>20.0</td>\n",
              "    </tr>\n",
              "    <tr>\n",
              "      <th>1</th>\n",
              "      <td>101</td>\n",
              "      <td>VIVO</td>\n",
              "      <td>131318             RECARGA VIRTUAL VIVO R$ 1,00</td>\n",
              "      <td>30.12.2019</td>\n",
              "      <td>10.0</td>\n",
              "    </tr>\n",
              "    <tr>\n",
              "      <th>2</th>\n",
              "      <td>101</td>\n",
              "      <td>VIVO</td>\n",
              "      <td>131318             RECARGA VIRTUAL VIVO R$ 1,00</td>\n",
              "      <td>04.01.2020</td>\n",
              "      <td>20.0</td>\n",
              "    </tr>\n",
              "    <tr>\n",
              "      <th>3</th>\n",
              "      <td>101</td>\n",
              "      <td>VIVO</td>\n",
              "      <td>131318             RECARGA VIRTUAL VIVO R$ 1,00</td>\n",
              "      <td>02.01.2020</td>\n",
              "      <td>10.0</td>\n",
              "    </tr>\n",
              "    <tr>\n",
              "      <th>4</th>\n",
              "      <td>101</td>\n",
              "      <td>VIVO</td>\n",
              "      <td>131318             RECARGA VIRTUAL VIVO R$ 1,00</td>\n",
              "      <td>03.01.2020</td>\n",
              "      <td>25.0</td>\n",
              "    </tr>\n",
              "  </tbody>\n",
              "</table>\n",
              "</div>"
            ],
            "text/plain": [
              "   Escritório de vendas Fornecedor  ...        Data Val.líq.\n",
              "0                   101       VIVO  ...  02.01.2020     20.0\n",
              "1                   101       VIVO  ...  30.12.2019     10.0\n",
              "2                   101       VIVO  ...  04.01.2020     20.0\n",
              "3                   101       VIVO  ...  02.01.2020     10.0\n",
              "4                   101       VIVO  ...  03.01.2020     25.0\n",
              "\n",
              "[5 rows x 5 columns]"
            ]
          },
          "metadata": {
            "tags": []
          },
          "execution_count": 55
        }
      ]
    },
    {
      "cell_type": "markdown",
      "metadata": {
        "id": "n-XxYUR52gFA",
        "colab_type": "text"
      },
      "source": [
        "2.3 Renomeando colunas "
      ]
    },
    {
      "cell_type": "markdown",
      "metadata": {
        "id": "Mm4ArgfjFaxG",
        "colab_type": "text"
      },
      "source": [
        "Vamos renomear as colunas para melhorar a compreensão e para a operação de merge"
      ]
    },
    {
      "cell_type": "code",
      "metadata": {
        "id": "Pk_vHe5Z10NH",
        "colab_type": "code",
        "colab": {}
      },
      "source": [
        "df_venda = df_venda.rename(columns = {'Escritório de vendas':'local_vendas', 'Fornecedor':'fornecedor','Val.líq.':'Valor_liq'})"
      ],
      "execution_count": 0,
      "outputs": []
    },
    {
      "cell_type": "markdown",
      "metadata": {
        "id": "FDMGdsuV-dIL",
        "colab_type": "text"
      },
      "source": [
        "2.4 Verificação dos tipos"
      ]
    },
    {
      "cell_type": "code",
      "metadata": {
        "id": "LImqi9BD-i2C",
        "colab_type": "code",
        "outputId": "f6377cc1-df57-457a-ce91-344110b62129",
        "colab": {
          "base_uri": "https://localhost:8080/",
          "height": 119
        }
      },
      "source": [
        "df_venda.dtypes"
      ],
      "execution_count": 0,
      "outputs": [
        {
          "output_type": "execute_result",
          "data": {
            "text/plain": [
              "local_vendas      int64\n",
              "fornecedor       object\n",
              "Material         object\n",
              "Data             object\n",
              "Valor_liq       float64\n",
              "dtype: object"
            ]
          },
          "metadata": {
            "tags": []
          },
          "execution_count": 57
        }
      ]
    },
    {
      "cell_type": "markdown",
      "metadata": {
        "id": "aZnYYjRGBDuQ",
        "colab_type": "text"
      },
      "source": [
        "2.6 Deletar dados "
      ]
    },
    {
      "cell_type": "markdown",
      "metadata": {
        "id": "HlP9saz9F-jI",
        "colab_type": "text"
      },
      "source": [
        "Vamos excluir a coluna Material que não iremos utilizar "
      ]
    },
    {
      "cell_type": "code",
      "metadata": {
        "id": "H9H53qBIncux",
        "colab_type": "code",
        "colab": {}
      },
      "source": [
        "df_venda = df_venda.drop(['Material', 'Data'], axis='columns')"
      ],
      "execution_count": 0,
      "outputs": []
    },
    {
      "cell_type": "markdown",
      "metadata": {
        "id": "nkeoxVRRLsjk",
        "colab_type": "text"
      },
      "source": [
        "Vamos verificar  os tipos do dataframe Venda"
      ]
    },
    {
      "cell_type": "code",
      "metadata": {
        "id": "lsz3BiJlgLfl",
        "colab_type": "code",
        "outputId": "217911c3-c8c7-40ea-a26e-c9240758cda0",
        "colab": {
          "base_uri": "https://localhost:8080/",
          "height": 85
        }
      },
      "source": [
        "df_venda.dtypes\n"
      ],
      "execution_count": 0,
      "outputs": [
        {
          "output_type": "execute_result",
          "data": {
            "text/plain": [
              "local_vendas      int64\n",
              "fornecedor       object\n",
              "Valor_liq       float64\n",
              "dtype: object"
            ]
          },
          "metadata": {
            "tags": []
          },
          "execution_count": 59
        }
      ]
    },
    {
      "cell_type": "markdown",
      "metadata": {
        "id": "0672c9D2ECDE",
        "colab_type": "text"
      },
      "source": [
        "# 3 Concatenar Tabelas"
      ]
    },
    {
      "cell_type": "code",
      "metadata": {
        "id": "uov2oBGvfgga",
        "colab_type": "code",
        "outputId": "c00dec22-2ea9-420a-8364-3afbf33391ce",
        "colab": {
          "base_uri": "https://localhost:8080/",
          "height": 204
        }
      },
      "source": [
        "df_financeira.head()"
      ],
      "execution_count": 0,
      "outputs": [
        {
          "output_type": "execute_result",
          "data": {
            "text/html": [
              "<div>\n",
              "<style scoped>\n",
              "    .dataframe tbody tr th:only-of-type {\n",
              "        vertical-align: middle;\n",
              "    }\n",
              "\n",
              "    .dataframe tbody tr th {\n",
              "        vertical-align: top;\n",
              "    }\n",
              "\n",
              "    .dataframe thead th {\n",
              "        text-align: right;\n",
              "    }\n",
              "</style>\n",
              "<table border=\"1\" class=\"dataframe\">\n",
              "  <thead>\n",
              "    <tr style=\"text-align: right;\">\n",
              "      <th></th>\n",
              "      <th>NomeFantasia</th>\n",
              "      <th>Escritório de vendas</th>\n",
              "      <th>UF</th>\n",
              "      <th>Operadora</th>\n",
              "      <th>Vlookup Bruto</th>\n",
              "    </tr>\n",
              "  </thead>\n",
              "  <tbody>\n",
              "    <tr>\n",
              "      <th>0</th>\n",
              "      <td>BEMOL AVENIDA</td>\n",
              "      <td>103</td>\n",
              "      <td>AM</td>\n",
              "      <td>Claro</td>\n",
              "      <td>2651</td>\n",
              "    </tr>\n",
              "    <tr>\n",
              "      <th>1</th>\n",
              "      <td>BEMOL AVENIDA</td>\n",
              "      <td>103</td>\n",
              "      <td>AM</td>\n",
              "      <td>Oi</td>\n",
              "      <td>3309</td>\n",
              "    </tr>\n",
              "    <tr>\n",
              "      <th>2</th>\n",
              "      <td>BEMOL AVENIDA</td>\n",
              "      <td>103</td>\n",
              "      <td>AM</td>\n",
              "      <td>Tim</td>\n",
              "      <td>1550</td>\n",
              "    </tr>\n",
              "    <tr>\n",
              "      <th>3</th>\n",
              "      <td>BEMOL AVENIDA</td>\n",
              "      <td>103</td>\n",
              "      <td>AM</td>\n",
              "      <td>Vivo</td>\n",
              "      <td>4739</td>\n",
              "    </tr>\n",
              "    <tr>\n",
              "      <th>4</th>\n",
              "      <td>BEMOL BARROSO</td>\n",
              "      <td>107</td>\n",
              "      <td>AM</td>\n",
              "      <td>Claro</td>\n",
              "      <td>1495</td>\n",
              "    </tr>\n",
              "  </tbody>\n",
              "</table>\n",
              "</div>"
            ],
            "text/plain": [
              "    NomeFantasia  Escritório de vendas  UF Operadora  Vlookup Bruto\n",
              "0  BEMOL AVENIDA                   103  AM     Claro           2651\n",
              "1  BEMOL AVENIDA                   103  AM        Oi           3309\n",
              "2  BEMOL AVENIDA                   103  AM       Tim           1550\n",
              "3  BEMOL AVENIDA                   103  AM      Vivo           4739\n",
              "4  BEMOL BARROSO                   107  AM     Claro           1495"
            ]
          },
          "metadata": {
            "tags": []
          },
          "execution_count": 60
        }
      ]
    },
    {
      "cell_type": "markdown",
      "metadata": {
        "id": "hqe_S7PLPR6F",
        "colab_type": "text"
      },
      "source": [
        "Vamos excluir a coluna NomeFantasia que não iremos utilizar "
      ]
    },
    {
      "cell_type": "code",
      "metadata": {
        "id": "bqPe5V5FkpQD",
        "colab_type": "code",
        "colab": {}
      },
      "source": [
        "df_financeira = df_financeira.drop(['NomeFantasia'], axis='columns')"
      ],
      "execution_count": 0,
      "outputs": []
    },
    {
      "cell_type": "markdown",
      "metadata": {
        "id": "PqH6597cRrTj",
        "colab_type": "text"
      },
      "source": [
        "Agora vamos renomear as colunas do dataframe df_financeira"
      ]
    },
    {
      "cell_type": "code",
      "metadata": {
        "id": "4rtKTGOXk9JM",
        "colab_type": "code",
        "colab": {}
      },
      "source": [
        "df_financeira = df_financeira.rename(columns = {'Operadora':'fornecedor','Escritório de vendas':'local_vendas', 'Vlookup Bruto': 'Valor_bruto'})"
      ],
      "execution_count": 0,
      "outputs": []
    },
    {
      "cell_type": "markdown",
      "metadata": {
        "id": "r5DVrg2QTDN5",
        "colab_type": "text"
      },
      "source": [
        "Como iremos comparar nome de fornecedor dos dois dataframes, iremos alterar o formato para maiúsculas "
      ]
    },
    {
      "cell_type": "code",
      "metadata": {
        "id": "E0CCSjqlODBk",
        "colab_type": "code",
        "colab": {}
      },
      "source": [
        "df_financeira['fornecedor'] = df_financeira['fornecedor'].str.upper()"
      ],
      "execution_count": 0,
      "outputs": []
    },
    {
      "cell_type": "markdown",
      "metadata": {
        "id": "rXYgm_0waUz6",
        "colab_type": "text"
      },
      "source": [
        "Verificamos que no dataframe tem uma fornecedora que é a Antiga OI, estamos atualizando para depois fazer a correlação "
      ]
    },
    {
      "cell_type": "code",
      "metadata": {
        "id": "SMNJOQVcmO2K",
        "colab_type": "code",
        "colab": {}
      },
      "source": [
        " df_financeira = df_financeira.apply(lambda x: x.replace('TNL','OI'))"
      ],
      "execution_count": 0,
      "outputs": []
    },
    {
      "cell_type": "code",
      "metadata": {
        "id": "9oTt502lihde",
        "colab_type": "code",
        "colab": {}
      },
      "source": [
        " df_venda = df_venda.apply(lambda x: x.replace('TNL','OI'))"
      ],
      "execution_count": 0,
      "outputs": []
    },
    {
      "cell_type": "markdown",
      "metadata": {
        "id": "jxtA-oTVjAvH",
        "colab_type": "text"
      },
      "source": [
        "Vamos verificar o tipo do dataframe df_financeira"
      ]
    },
    {
      "cell_type": "code",
      "metadata": {
        "id": "9S1m-q3MfObL",
        "colab_type": "code",
        "outputId": "daedf9cd-9aa5-49f0-8096-82214abdf38c",
        "colab": {
          "base_uri": "https://localhost:8080/",
          "height": 102
        }
      },
      "source": [
        "df_financeira.dtypes"
      ],
      "execution_count": 0,
      "outputs": [
        {
          "output_type": "execute_result",
          "data": {
            "text/plain": [
              "local_vendas     int64\n",
              "UF              object\n",
              "fornecedor      object\n",
              "Valor_bruto      int64\n",
              "dtype: object"
            ]
          },
          "metadata": {
            "tags": []
          },
          "execution_count": 66
        }
      ]
    },
    {
      "cell_type": "markdown",
      "metadata": {
        "id": "iEE9RB2-hYYx",
        "colab_type": "text"
      },
      "source": [
        "Verificamos que o tipo entre a coluna valor_bruto e valor_liquido são divergentes. Iremos atualizar o tipo para realizar a comparação corretamente."
      ]
    },
    {
      "cell_type": "code",
      "metadata": {
        "id": "yjzUSMZ2gXeM",
        "colab_type": "code",
        "colab": {}
      },
      "source": [
        "df_financeira['Valor_bruto'] = df_financeira['Valor_bruto'].astype(float)"
      ],
      "execution_count": 0,
      "outputs": []
    },
    {
      "cell_type": "markdown",
      "metadata": {
        "id": "KL1kgYtHiEnR",
        "colab_type": "text"
      },
      "source": [
        "Vamos concatenar os dataframes venda e financeira "
      ]
    },
    {
      "cell_type": "code",
      "metadata": {
        "id": "4sk0Ru-EO2lK",
        "colab_type": "code",
        "colab": {}
      },
      "source": [
        "df_venda = df_venda.groupby(['local_vendas', 'fornecedor']).agg({'Valor_liq':'sum'}).reset_index()\n"
      ],
      "execution_count": 0,
      "outputs": []
    },
    {
      "cell_type": "code",
      "metadata": {
        "id": "plEb_RjjP13O",
        "colab_type": "code",
        "colab": {}
      },
      "source": [
        "df_financeira = df_financeira.groupby(['local_vendas', 'fornecedor']).agg({ 'Valor_bruto':'first'}).reset_index()"
      ],
      "execution_count": 0,
      "outputs": []
    },
    {
      "cell_type": "markdown",
      "metadata": {
        "id": "FGdmUBAngeiX",
        "colab_type": "text"
      },
      "source": [
        "# Correlação de Tabelas "
      ]
    },
    {
      "cell_type": "markdown",
      "metadata": {
        "id": "wSNvrFdCkyop",
        "colab_type": "text"
      },
      "source": [
        "Vamos fazer a correlação dos dataframe venda e financeira"
      ]
    },
    {
      "cell_type": "code",
      "metadata": {
        "id": "D0q7ev2yEqZB",
        "colab_type": "code",
        "colab": {}
      },
      "source": [
        "df_relatorio = pd.merge(df_venda, df_financeira, on = ['local_vendas', 'fornecedor'], how = 'outer')"
      ],
      "execution_count": 0,
      "outputs": []
    },
    {
      "cell_type": "code",
      "metadata": {
        "id": "7hMauLcg9lAx",
        "colab_type": "code",
        "outputId": "f047949d-6022-4adf-9390-68a9609a872d",
        "colab": {
          "base_uri": "https://localhost:8080/",
          "height": 204
        }
      },
      "source": [
        "df_relatorio.head (5)"
      ],
      "execution_count": 0,
      "outputs": [
        {
          "output_type": "execute_result",
          "data": {
            "text/html": [
              "<div>\n",
              "<style scoped>\n",
              "    .dataframe tbody tr th:only-of-type {\n",
              "        vertical-align: middle;\n",
              "    }\n",
              "\n",
              "    .dataframe tbody tr th {\n",
              "        vertical-align: top;\n",
              "    }\n",
              "\n",
              "    .dataframe thead th {\n",
              "        text-align: right;\n",
              "    }\n",
              "</style>\n",
              "<table border=\"1\" class=\"dataframe\">\n",
              "  <thead>\n",
              "    <tr style=\"text-align: right;\">\n",
              "      <th></th>\n",
              "      <th>local_vendas</th>\n",
              "      <th>fornecedor</th>\n",
              "      <th>Valor_liq</th>\n",
              "      <th>Valor_bruto</th>\n",
              "    </tr>\n",
              "  </thead>\n",
              "  <tbody>\n",
              "    <tr>\n",
              "      <th>0</th>\n",
              "      <td>101</td>\n",
              "      <td>CLARO</td>\n",
              "      <td>1527.0</td>\n",
              "      <td>1527.0</td>\n",
              "    </tr>\n",
              "    <tr>\n",
              "      <th>1</th>\n",
              "      <td>101</td>\n",
              "      <td>OI</td>\n",
              "      <td>1730.0</td>\n",
              "      <td>1730.0</td>\n",
              "    </tr>\n",
              "    <tr>\n",
              "      <th>2</th>\n",
              "      <td>101</td>\n",
              "      <td>TIM</td>\n",
              "      <td>975.0</td>\n",
              "      <td>975.0</td>\n",
              "    </tr>\n",
              "    <tr>\n",
              "      <th>3</th>\n",
              "      <td>101</td>\n",
              "      <td>VIVO</td>\n",
              "      <td>3142.0</td>\n",
              "      <td>3142.0</td>\n",
              "    </tr>\n",
              "    <tr>\n",
              "      <th>4</th>\n",
              "      <td>103</td>\n",
              "      <td>CLARO</td>\n",
              "      <td>2652.3</td>\n",
              "      <td>2651.0</td>\n",
              "    </tr>\n",
              "  </tbody>\n",
              "</table>\n",
              "</div>"
            ],
            "text/plain": [
              "   local_vendas fornecedor  Valor_liq  Valor_bruto\n",
              "0           101      CLARO     1527.0       1527.0\n",
              "1           101         OI     1730.0       1730.0\n",
              "2           101        TIM      975.0        975.0\n",
              "3           101       VIVO     3142.0       3142.0\n",
              "4           103      CLARO     2652.3       2651.0"
            ]
          },
          "metadata": {
            "tags": []
          },
          "execution_count": 71
        }
      ]
    },
    {
      "cell_type": "markdown",
      "metadata": {
        "id": "F5wZ_Y1glRhA",
        "colab_type": "text"
      },
      "source": [
        "Verificar se existem valores ausentes NAN"
      ]
    },
    {
      "cell_type": "code",
      "metadata": {
        "id": "vdvzNHgTne6c",
        "colab_type": "code",
        "outputId": "421168df-0336-4ab1-e580-325f9285780f",
        "colab": {
          "base_uri": "https://localhost:8080/",
          "height": 102
        }
      },
      "source": [
        "df_relatorio.isnull().sum()"
      ],
      "execution_count": 0,
      "outputs": [
        {
          "output_type": "execute_result",
          "data": {
            "text/plain": [
              "local_vendas    0\n",
              "fornecedor      0\n",
              "Valor_liq       0\n",
              "Valor_bruto     1\n",
              "dtype: int64"
            ]
          },
          "metadata": {
            "tags": []
          },
          "execution_count": 72
        }
      ]
    },
    {
      "cell_type": "code",
      "metadata": {
        "id": "s0oe-h7EnSwf",
        "colab_type": "code",
        "colab": {}
      },
      "source": [
        "df_relatorio = df_relatorio.fillna(0)"
      ],
      "execution_count": 0,
      "outputs": []
    },
    {
      "cell_type": "code",
      "metadata": {
        "id": "eYcbuL7zldiH",
        "colab_type": "code",
        "colab": {}
      },
      "source": [
        "def comparacao (valor_liq, valor_bruto):\n",
        "  if(valor_liq == valor_bruto):\n",
        "    return ''\n",
        "  else:\n",
        "    return 'alerta'"
      ],
      "execution_count": 0,
      "outputs": []
    },
    {
      "cell_type": "code",
      "metadata": {
        "id": "b1UayGMCD-hs",
        "colab_type": "code",
        "colab": {}
      },
      "source": [
        "df_relatorio['status'] = df_relatorio.apply(lambda row: comparacao(row['Valor_bruto'],row['Valor_liq']), axis='columns')"
      ],
      "execution_count": 0,
      "outputs": []
    },
    {
      "cell_type": "code",
      "metadata": {
        "id": "-2lVpENwo8CY",
        "colab_type": "code",
        "outputId": "ed3bf531-2e37-4b23-d672-9cdf62f6d1ac",
        "colab": {
          "base_uri": "https://localhost:8080/",
          "height": 514
        }
      },
      "source": [
        "df_relatorio.head(15)"
      ],
      "execution_count": 0,
      "outputs": [
        {
          "output_type": "execute_result",
          "data": {
            "text/html": [
              "<div>\n",
              "<style scoped>\n",
              "    .dataframe tbody tr th:only-of-type {\n",
              "        vertical-align: middle;\n",
              "    }\n",
              "\n",
              "    .dataframe tbody tr th {\n",
              "        vertical-align: top;\n",
              "    }\n",
              "\n",
              "    .dataframe thead th {\n",
              "        text-align: right;\n",
              "    }\n",
              "</style>\n",
              "<table border=\"1\" class=\"dataframe\">\n",
              "  <thead>\n",
              "    <tr style=\"text-align: right;\">\n",
              "      <th></th>\n",
              "      <th>local_vendas</th>\n",
              "      <th>fornecedor</th>\n",
              "      <th>Valor_liq</th>\n",
              "      <th>Valor_bruto</th>\n",
              "      <th>status</th>\n",
              "    </tr>\n",
              "  </thead>\n",
              "  <tbody>\n",
              "    <tr>\n",
              "      <th>0</th>\n",
              "      <td>101</td>\n",
              "      <td>CLARO</td>\n",
              "      <td>1527.0</td>\n",
              "      <td>1527.0</td>\n",
              "      <td></td>\n",
              "    </tr>\n",
              "    <tr>\n",
              "      <th>1</th>\n",
              "      <td>101</td>\n",
              "      <td>OI</td>\n",
              "      <td>1730.0</td>\n",
              "      <td>1730.0</td>\n",
              "      <td></td>\n",
              "    </tr>\n",
              "    <tr>\n",
              "      <th>2</th>\n",
              "      <td>101</td>\n",
              "      <td>TIM</td>\n",
              "      <td>975.0</td>\n",
              "      <td>975.0</td>\n",
              "      <td></td>\n",
              "    </tr>\n",
              "    <tr>\n",
              "      <th>3</th>\n",
              "      <td>101</td>\n",
              "      <td>VIVO</td>\n",
              "      <td>3142.0</td>\n",
              "      <td>3142.0</td>\n",
              "      <td></td>\n",
              "    </tr>\n",
              "    <tr>\n",
              "      <th>4</th>\n",
              "      <td>103</td>\n",
              "      <td>CLARO</td>\n",
              "      <td>2652.3</td>\n",
              "      <td>2651.0</td>\n",
              "      <td>alerta</td>\n",
              "    </tr>\n",
              "    <tr>\n",
              "      <th>5</th>\n",
              "      <td>103</td>\n",
              "      <td>OI</td>\n",
              "      <td>3309.0</td>\n",
              "      <td>3309.0</td>\n",
              "      <td></td>\n",
              "    </tr>\n",
              "    <tr>\n",
              "      <th>6</th>\n",
              "      <td>103</td>\n",
              "      <td>TIM</td>\n",
              "      <td>1550.0</td>\n",
              "      <td>1550.0</td>\n",
              "      <td></td>\n",
              "    </tr>\n",
              "    <tr>\n",
              "      <th>7</th>\n",
              "      <td>103</td>\n",
              "      <td>VIVO</td>\n",
              "      <td>4739.0</td>\n",
              "      <td>4739.0</td>\n",
              "      <td></td>\n",
              "    </tr>\n",
              "    <tr>\n",
              "      <th>8</th>\n",
              "      <td>105</td>\n",
              "      <td>CLARO</td>\n",
              "      <td>720.0</td>\n",
              "      <td>720.0</td>\n",
              "      <td></td>\n",
              "    </tr>\n",
              "    <tr>\n",
              "      <th>9</th>\n",
              "      <td>105</td>\n",
              "      <td>OI</td>\n",
              "      <td>2030.0</td>\n",
              "      <td>2030.0</td>\n",
              "      <td></td>\n",
              "    </tr>\n",
              "    <tr>\n",
              "      <th>10</th>\n",
              "      <td>105</td>\n",
              "      <td>TIM</td>\n",
              "      <td>955.0</td>\n",
              "      <td>955.0</td>\n",
              "      <td></td>\n",
              "    </tr>\n",
              "    <tr>\n",
              "      <th>11</th>\n",
              "      <td>105</td>\n",
              "      <td>VIVO</td>\n",
              "      <td>1943.0</td>\n",
              "      <td>1943.0</td>\n",
              "      <td></td>\n",
              "    </tr>\n",
              "    <tr>\n",
              "      <th>12</th>\n",
              "      <td>106</td>\n",
              "      <td>CLARO</td>\n",
              "      <td>1319.0</td>\n",
              "      <td>1319.0</td>\n",
              "      <td></td>\n",
              "    </tr>\n",
              "    <tr>\n",
              "      <th>13</th>\n",
              "      <td>106</td>\n",
              "      <td>OI</td>\n",
              "      <td>1895.0</td>\n",
              "      <td>1895.0</td>\n",
              "      <td></td>\n",
              "    </tr>\n",
              "    <tr>\n",
              "      <th>14</th>\n",
              "      <td>106</td>\n",
              "      <td>TIM</td>\n",
              "      <td>2345.0</td>\n",
              "      <td>2345.0</td>\n",
              "      <td></td>\n",
              "    </tr>\n",
              "  </tbody>\n",
              "</table>\n",
              "</div>"
            ],
            "text/plain": [
              "    local_vendas fornecedor  Valor_liq  Valor_bruto  status\n",
              "0            101      CLARO     1527.0       1527.0        \n",
              "1            101         OI     1730.0       1730.0        \n",
              "2            101        TIM      975.0        975.0        \n",
              "3            101       VIVO     3142.0       3142.0        \n",
              "4            103      CLARO     2652.3       2651.0  alerta\n",
              "5            103         OI     3309.0       3309.0        \n",
              "6            103        TIM     1550.0       1550.0        \n",
              "7            103       VIVO     4739.0       4739.0        \n",
              "8            105      CLARO      720.0        720.0        \n",
              "9            105         OI     2030.0       2030.0        \n",
              "10           105        TIM      955.0        955.0        \n",
              "11           105       VIVO     1943.0       1943.0        \n",
              "12           106      CLARO     1319.0       1319.0        \n",
              "13           106         OI     1895.0       1895.0        \n",
              "14           106        TIM     2345.0       2345.0        "
            ]
          },
          "metadata": {
            "tags": []
          },
          "execution_count": 76
        }
      ]
    },
    {
      "cell_type": "code",
      "metadata": {
        "id": "5R6H-xZJIKvS",
        "colab_type": "code",
        "colab": {}
      },
      "source": [
        "df_relatorio.to_excel('Total_vendas.xlsx',encoding='utf-8',index=False)"
      ],
      "execution_count": 0,
      "outputs": []
    }
  ]
}